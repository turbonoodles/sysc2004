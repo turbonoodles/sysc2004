{
 "cells": [
  {
   "cell_type": "markdown",
   "metadata": {},
   "source": [
    "# Exam Crib Sheet"
   ]
  },
  {
   "cell_type": "markdown",
   "metadata": {},
   "source": [
    "## Access modifiers\n",
    "\n",
    "- `private` $\\rightarrow$ no access from outside this class\n",
    "- `protected` $\\rightarrow$ access from this class and its subclasses\n",
    "- `public` $\\rightarrow$ access from anywhere; go nuts"
   ]
  },
  {
   "cell_type": "markdown",
   "metadata": {},
   "source": [
    "## Collections"
   ]
  },
  {
   "cell_type": "markdown",
   "metadata": {},
   "source": [
    "### `ArrayList`\n",
    "\n",
    "- length can be changed dynamically\n",
    "- index starts at zero; goes to length-1\n",
    "\n",
    "#### Imports\n",
    "\n",
    "`import Java.util.ArrayList`\n",
    "\n",
    "#### Field Declaration\n",
    "\n",
    "`private Arraylist<ElementType>;`\n",
    "\n",
    "#### Creation\n",
    "\n",
    "`ArrayList<ElementType> listName = new Arraylist<>();`\n",
    "\n",
    "#### Methods\n",
    "\n",
    "- `ArrayList.clear()` $\\rightarrow$ empty the list\n",
    "- `ArrayList.add(Element)` $\\rightarrow$ append the `Element` to the list\n",
    "- `ArrayList.size()` $\\rightarrow$ return the number of elements in the list\n",
    "- `ArrayList.remove(int index)` $\\rightarrow$ remove the element at index from the list\n",
    "- `ArrayList.get(int index)` $\\rightarrow$ return the element in the list at index\n",
    "- `ArrayList.addAll(otherCollection)` $\\rightarrow$ add an entire other collection object to `ArrayList`"
   ]
  },
  {
   "cell_type": "markdown",
   "metadata": {},
   "source": [
    "### `Array`\n",
    "\n",
    "- fixed-size collection\n",
    "\n",
    "- can store primitive types and references\n",
    "\n",
    "#### No Imports!\n",
    "\n",
    "* import `Java.util.Arrays` for useful features tho\n",
    "\n",
    "#### Field Declaration\n",
    "\n",
    "`String[] shoebox;` $\\rightarrow$ an array of strings\n",
    "\n",
    "`public shoebox[] = {\"words\", \"words\"};` $\\rightarrow$ no length needed; comes from initialized variables\n",
    "\n",
    "`anArray = int[10]` $\\rightarrow$ holds ten `int`s\n",
    "\n",
    "`String[][]` $\\rightarrow$ an array of arrays\n",
    "\n",
    "#### Access\n",
    "\n",
    "`shoebox[1]` $\\rightarrow$ array index from 0 to n-1\n",
    "\n",
    "#### Methods\n",
    "\n",
    "* Array methods:\n",
    "\n",
    "    * `Array.length` $\\rightarrow$ *NO PARENTHESES!* returns the length of the array\n",
    "    \n",
    "* Static methods from `Java.util.Arrays`:\n",
    "\n",
    "    * `Arrays.asList(array);` $\\rightarrow$ a List interface into `array`\n",
    "    \n",
    "    * `Arrays.equals( type array1[], type array2[] );` $\\rightarrow$ returns true if `array1` and `array2` are equal\n",
    "    \n",
    "    * `Arrays.sort(arr);` $\\rightarrow$ sort `arr` into ascending numerical order\n",
    "    \n",
    "    * `Arrays.binarySearch(arr[], key);` $\\rightarrow$ find `key` in `arr[]` by bisection search. `arr[]` must be sorted.\n",
    "    \n",
    "    * `Arrays.fill(arr[], value);` $\\rightarrow$ make every element in `arr` into `value`\n",
    "* Other:\n",
    "    * `System.ArrayCopy( source, sourcePos, dest, destPos, length );` $\\rightarrow$ copy `length` elements from `source` to `dest`\n",
    "    \n",
    "    * will go like: \n",
    "    \n",
    "        * `source[sourcePos]`$\\rightarrow$`dest[destPos]`\n",
    "        \n",
    "        * `source[sourcePos + 1]`$\\rightarrow$`dest[destPos + 1]`\n",
    "        \n",
    "        * $\\dots$\n",
    "        \n",
    "        * `source[sourcePos + length - 1]` $\\rightarrow$ `dest[destPos + length - 1]`\n",
    "        \n",
    "        * elements in `dest` before `destPos` are not affected\n",
    "        \n"
   ]
  },
  {
   "cell_type": "markdown",
   "metadata": {},
   "source": [
    "### `HashMap`\n",
    "\n",
    "- a primitive database based on key/value mappings\n",
    "- need to declare a key type and a value type\n",
    "- unidirectional: you can look up a value with a key but not a key from a value\n",
    "\n",
    "#### Imports\n",
    "\n",
    "#### Field Declaration\n",
    "\n",
    "#### Creation\n",
    "\n",
    "`Hashmap<keyType, valueType> hm = new HashMap<>();`\n",
    "\n",
    "#### Methods\n",
    "\n",
    "- `hm.put(Key, Value)` $\\rightarrow$ add a new key/value pair to the map\n",
    "- `hm.get(Key)` $\\rightarrow$ return the value associated to `Key` in the map"
   ]
  },
  {
   "cell_type": "markdown",
   "metadata": {},
   "source": [
    "## Iteration"
   ]
  },
  {
   "cell_type": "markdown",
   "metadata": {},
   "source": [
    "### `while`\n",
    "\n",
    "#### Syntax"
   ]
  },
  {
   "cell_type": "code",
   "execution_count": null,
   "metadata": {},
   "outputs": [],
   "source": [
    "while (some_condition) // condition must evaluate to boolean true\n",
    "{\n",
    "    do_something;\n",
    "    change_condition_to_avoid_an_infinite_loop;\n",
    "}"
   ]
  },
  {
   "cell_type": "markdown",
   "metadata": {},
   "source": [
    "#### Use when:\n",
    "\n",
    "- the index in a collection is important\n",
    "- you don't have a collection at all\n",
    "- you need to process part of a collection"
   ]
  },
  {
   "cell_type": "markdown",
   "metadata": {},
   "source": [
    "### `for`\n",
    "\n",
    "#### Syntax"
   ]
  },
  {
   "cell_type": "code",
   "execution_count": null,
   "metadata": {},
   "outputs": [],
   "source": [
    "for ( initialization; loop_if_true; post_body_action )\n",
    "{\n",
    "    do_the_thing;\n",
    "    possible_do_the_other_thing;\n",
    "}"
   ]
  },
  {
   "cell_type": "markdown",
   "metadata": {},
   "source": [
    "### `Iterator`\n",
    "\n",
    "#### Syntax"
   ]
  },
  {
   "cell_type": "code",
   "execution_count": null,
   "metadata": {},
   "outputs": [],
   "source": [
    "for (Iterator<ElementType> it = someCollection.iterator(); it.hasNext(); ) // return iterator object\n",
    "{\n",
    "    do_something( it.next() ); // .next will return the next and advance\n",
    "}"
   ]
  },
  {
   "cell_type": "markdown",
   "metadata": {},
   "source": [
    "#### Iterator methods\n",
    "- `iterator.hasNext()` $\\rightarrow$ true if we can keep iterating\n",
    "- `iterator.next()` $\\rightarrow$ returns the next object in the collection\n",
    "- `iterator.remove()` $\\rightarrow$ removes the last object from the collection"
   ]
  },
  {
   "cell_type": "markdown",
   "metadata": {},
   "source": [
    "#### Use when:\n",
    "\n",
    "- you need to remove items from a collection object"
   ]
  },
  {
   "cell_type": "markdown",
   "metadata": {},
   "source": [
    "## `jUnit` Basics"
   ]
  },
  {
   "cell_type": "markdown",
   "metadata": {},
   "source": [
    "#### Test Annotations\n",
    "\n",
    "- `@Before` - run before each `@Test` method\n",
    "- `@After` - run after each `@Test` method\n",
    "- `@Test` - a test case"
   ]
  },
  {
   "cell_type": "markdown",
   "metadata": {},
   "source": [
    "#### Asserts\n",
    "- `import org.junit.Assert.*`\n",
    "- test that your code did the right thing\n",
    "    - `assertEquals(String message, obj1, obj2)` $\\rightarrow$ test passes if `obj1` and `obj2` are equal; give `message` if not\n",
    "    - `assertTrue(String message, obj)` $\\rightarrow$ test passes if `obj` booleans to True\n",
    "    - `assertFalse(String message, obj)` $\\rightarrow$ test passes is `obj` booleans to False"
   ]
  },
  {
   "cell_type": "markdown",
   "metadata": {},
   "source": [
    "## Inheritance"
   ]
  },
  {
   "cell_type": "markdown",
   "metadata": {},
   "source": [
    "### Basic Syntax\n",
    "\n",
    "To inherit from another class:"
   ]
  },
  {
   "cell_type": "code",
   "execution_count": null,
   "metadata": {},
   "outputs": [],
   "source": [
    "public class Animal // superclass\n",
    "{\n",
    "    public Animal()\n",
    "    {\n",
    "        do_animal_stuff();\n",
    "    }\n",
    "}\n",
    "\n",
    "public class Bird extends Animal // a subclass\n",
    "{\n",
    "    public Bird()\n",
    "    {\n",
    "        super();\n",
    "        do_bird_stuff();\n",
    "    }\n",
    "}"
   ]
  },
  {
   "cell_type": "markdown",
   "metadata": {},
   "source": [
    "### Polymorphism\n",
    "\n",
    "- an object of a superclass can be used directly as an object of:\n",
    "    - the superclass\n",
    "    - any subclass of the superclass\n",
    "        - a method needing `Animal` may take `Bird`\n",
    "        - a method needing `Bird` cannot take `Animal`\n",
    "        \n",
    "#### `instanceof`\n",
    "\n",
    "- identify whether an object of of a given type or a subtype thereof"
   ]
  },
  {
   "cell_type": "markdown",
   "metadata": {},
   "source": [
    "### Overriding\n",
    "\n",
    "- Java looks for methods from subclass to superclass; ends up at `Object`\n",
    "- to override a method, give a subclass a method with the same name (this is especially useful in `.equals()`)"
   ]
  },
  {
   "cell_type": "code",
   "execution_count": 22,
   "metadata": {},
   "outputs": [],
   "source": [
    "public class Animal\n",
    "{\n",
    "    private String name;\n",
    "    \n",
    "    public Animal( String name )\n",
    "    {\n",
    "        this.name = name; // all animals have names\n",
    "    }\n",
    "    \n",
    "    public String getName()\n",
    "    {\n",
    "        return this.name;\n",
    "    }\n",
    "    \n",
    "    public void speak()\n",
    "    {\n",
    "        System.out.println(\"<silence>\");\n",
    "    }\n",
    "}\n",
    "\n",
    "public class Cat extends Animal\n",
    "{\n",
    "    public Cat( String name )\n",
    "    {\n",
    "        super(name);\n",
    "    }\n",
    "    \n",
    "    public void speak()\n",
    "    {\n",
    "        System.out.println(\"Meow\");\n",
    "    }\n",
    "}"
   ]
  },
  {
   "cell_type": "code",
   "execution_count": 23,
   "metadata": {},
   "outputs": [],
   "source": [
    "Animal a = new Animal(\"a\");"
   ]
  },
  {
   "cell_type": "code",
   "execution_count": 24,
   "metadata": {},
   "outputs": [
    {
     "name": "stdout",
     "output_type": "stream",
     "text": [
      "<soft rustling>\n"
     ]
    }
   ],
   "source": [
    "a.speak();"
   ]
  },
  {
   "cell_type": "code",
   "execution_count": 25,
   "metadata": {},
   "outputs": [],
   "source": [
    "Cat sylvester = new Cat(\"Sylvester\");"
   ]
  },
  {
   "cell_type": "code",
   "execution_count": 26,
   "metadata": {},
   "outputs": [
    {
     "name": "stdout",
     "output_type": "stream",
     "text": [
      "Meow\n"
     ]
    }
   ],
   "source": [
    "sylvester.speak();"
   ]
  },
  {
   "cell_type": "markdown",
   "metadata": {},
   "source": [
    "### Abstract classes\n",
    "\n",
    "- cannot create class instances\n",
    "- can be inherited from\n",
    "- have method signatures but not bodies"
   ]
  },
  {
   "cell_type": "markdown",
   "metadata": {},
   "source": [
    "### Interfaces\n",
    "- a sort of multiple inheritance\n",
    "- a set of method prototypes which will let you interact with an object\n",
    "    - these prototypes do not have method bodies\n",
    "- inherited by `implements` keyword\n",
    "\n",
    "#### `default` methods\n",
    "- these do have method bodies\n",
    "- methods are inherited by all `implements`ing classes "
   ]
  },
  {
   "cell_type": "code",
   "execution_count": null,
   "metadata": {},
   "outputs": [],
   "source": [
    "public class Vehicle\n",
    "{}\n",
    "\n",
    "public interface License\n",
    "{}\n",
    "\n",
    "public class Bicycle extends Vehicle\n",
    "{}\n",
    "\n",
    "public class Car extends Vehicle implements License //like a vehicle but also with a license\n",
    "{}"
   ]
  },
  {
   "cell_type": "markdown",
   "metadata": {},
   "source": [
    "## Error Handling"
   ]
  },
  {
   "cell_type": "markdown",
   "metadata": {},
   "source": [
    "### Exceptions\n",
    "\n",
    "#### Creation\n",
    "- just a class that inherits from `Exception`"
   ]
  },
  {
   "cell_type": "code",
   "execution_count": null,
   "metadata": {},
   "outputs": [],
   "source": [
    "public class myException extends Exception\n",
    "{\n",
    "    public myException() //constructor\n",
    "    {}\n",
    "}"
   ]
  },
  {
   "cell_type": "markdown",
   "metadata": {},
   "source": [
    "#### Throwing\n",
    "- javadoc: `@throws`\n",
    "- function signature for checked exception in methods:"
   ]
  },
  {
   "cell_type": "code",
   "execution_count": null,
   "metadata": {},
   "outputs": [],
   "source": [
    "public void stage() throws myException\n",
    "{\n",
    "    if (numStages = 0)\n",
    "    {\n",
    "        throw new myException(\"narf\");\n",
    "    }\n",
    "}"
   ]
  },
  {
   "cell_type": "markdown",
   "metadata": {},
   "source": [
    "#### Exception checking\n",
    "- check if some function that should nominally work might have a problem\n",
    "- catch particular exception types"
   ]
  },
  {
   "cell_type": "code",
   "execution_count": null,
   "metadata": {},
   "outputs": [],
   "source": [
    "try\n",
    "{\n",
    "    do_something();\n",
    "}\n",
    "catch ( myException ex )\n",
    "{\n",
    "    fix_exception(e); // e is an exception object\n",
    "}\n",
    "finally\n",
    "{\n",
    "    something_that_happens_last_every_time();\n",
    "}"
   ]
  }
 ],
 "metadata": {
  "kernelspec": {
   "display_name": "Java",
   "language": "java",
   "name": "java"
  },
  "language_info": {
   "codemirror_mode": "java",
   "file_extension": ".jshell",
   "mimetype": "text/x-java-source",
   "name": "Java",
   "pygments_lexer": "java",
   "version": "11.0.5+10"
  }
 },
 "nbformat": 4,
 "nbformat_minor": 2
}

{
 "cells": [
  {
   "cell_type": "markdown",
   "metadata": {},
   "source": [
    "# Exam Crib Sheet"
   ]
  },
  {
   "cell_type": "markdown",
   "metadata": {},
   "source": [
    "## Collections"
   ]
  },
  {
   "cell_type": "markdown",
   "metadata": {},
   "source": [
    "### `ArrayList`\n",
    "\n",
    "- length can be changed dynamically\n",
    "- index starts at zero; goes to length-1\n",
    "\n",
    "#### Imports\n",
    "\n",
    "`import Java.util.ArrayList`\n",
    "\n",
    "#### Field Declaration\n",
    "\n",
    "`private Arraylist<ElementType>;`\n",
    "\n",
    "#### Creation\n",
    "\n",
    "`ArrayList<ElementType> listName = new Arraylist<>();`\n",
    "\n",
    "#### Methods\n",
    "\n",
    "- `ArrayList.clear()` $\\rightarrow$ empty the list\n",
    "- `ArrayList.add(Element)` $\\rightarrow$ append the `Element` to the list\n",
    "- `ArrayList.size()` $\\rightarrow$ return the number of elements in the list\n",
    "- `ArrayList.remove(int index)` $\\rightarrow$ remove the element at index from the list\n",
    "- `ArrayList.get(int index)` $\\rightarrow$ return the element in the list at index\n",
    "- `ArrayList.addAll(otherCollection)` $\\rightarrow$ add an entire other collection object to `ArrayList`"
   ]
  },
  {
   "cell_type": "markdown",
   "metadata": {},
   "source": [
    "### `Array`\n",
    "\n",
    "- fixed-size collection\n",
    "\n",
    "- can store primitive types and references\n",
    "\n",
    "#### No Imports!\n",
    "\n",
    "* import `Java.util.Arrays` for useful features tho\n",
    "\n",
    "#### Field Declaration\n",
    "\n",
    "`String[] shoebox;` $\\rightarrow$ an array of strings\n",
    "\n",
    "`public shoebox[] = {\"words\", \"words\"};` $\\rightarrow$ no length needed; comes from initialized variables\n",
    "\n",
    "`anArray = int[10]` $\\rightarrow$ holds ten `int`s\n",
    "\n",
    "`String[][]` $\\rightarrow$ an array of arrays\n",
    "\n",
    "#### Access\n",
    "\n",
    "`shoebox[1]` $\\rightarrow$ array index from 0 to n-1\n",
    "\n",
    "#### Methods\n",
    "\n",
    "* Array methods:\n",
    "\n",
    "    * `Array.length` $\\rightarrow$ *NO PARENTHESES!* returns the length of the array\n",
    "    \n",
    "* Static methods from `Java.util.Arrays`:\n",
    "\n",
    "    * `Arrays.asList(array);` $\\rightarrow$ a List interface into `array`\n",
    "    \n",
    "    * `Arrays.equals( type array1[], type array2[] );` $\\rightarrow$ returns true if `array1` and `array2` are equal\n",
    "    \n",
    "    * `Arrays.sort(arr);` $\\rightarrow$ sort `arr` into ascending numerical order\n",
    "    \n",
    "    * `Arrays.binarySearch(arr[], key);` $\\rightarrow$ find `key` in `arr[]` by bisection search. `arr[]` must be sorted.\n",
    "    \n",
    "    * `Arrays.fill(arr[], value);` $\\rightarrow$ make every element in `arr` into `value`\n",
    "* Other:\n",
    "    * `System.ArrayCopy( source, sourcePos, dest, destPos, length );` $\\rightarrow$ copy `length` elements from `source` to `dest`\n",
    "    \n",
    "    * will go like: \n",
    "    \n",
    "        * `source[sourcePos]`$\\rightarrow$`dest[destPos]`\n",
    "        \n",
    "        * `source[sourcePos + 1]`$\\rightarrow$`dest[destPos + 1]`\n",
    "        \n",
    "        * $\\dots$\n",
    "        \n",
    "        * `source[sourcePos + length - 1]` $\\rightarrow$ `dest[destPos + length - 1]`\n",
    "        \n",
    "        * elements in `dest` before `destPos` are not affected\n",
    "        \n"
   ]
  },
  {
   "cell_type": "markdown",
   "metadata": {},
   "source": [
    "### `HashMap`\n",
    "\n",
    "- a primitive database based on key/value mappings\n",
    "- need to declare a key type and a value type\n",
    "- unidirectional: you can look up a value with a key but not a key from a value\n",
    "\n",
    "#### Imports\n",
    "\n",
    "#### Field Declaration\n",
    "\n",
    "#### Creation\n",
    "\n",
    "`Hashmap<keyType, valueType> hm = new HashMap<>();`\n",
    "\n",
    "#### Methods\n",
    "\n",
    "- `hm.put(Key, Value)` $\\rightarrow$ add a new key/value pair to the map\n",
    "- `hm.get(Key)` $\\rightarrow$ return the value associated to `Key` in the map"
   ]
  },
  {
   "cell_type": "code",
   "execution_count": null,
   "metadata": {},
   "outputs": [],
   "source": []
  }
 ],
 "metadata": {
  "kernelspec": {
   "display_name": "Java",
   "language": "java",
   "name": "java"
  },
  "language_info": {
   "codemirror_mode": "java",
   "file_extension": ".jshell",
   "mimetype": "text/x-java-source",
   "name": "Java",
   "pygments_lexer": "java",
   "version": "11.0.5+10"
  }
 },
 "nbformat": 4,
 "nbformat_minor": 2
}

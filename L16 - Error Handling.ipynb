{
 "cells": [
  {
   "cell_type": "markdown",
   "metadata": {},
   "source": [
    "# Handling Errors\n",
    "\n",
    "Handling errors can be daunting. Lots of problems take place when developers forget to handle errors, and there are some applications where handling them systematically can be literally a life-or-death concern (aviation, space, nuclear, medical, etc.).\n"
   ]
  },
  {
   "cell_type": "markdown",
   "metadata": {},
   "source": [
    "## Typical errors\n",
    "\n",
    "* programmer errors\n",
    "\n",
    "    * incorrect implementation\n",
    "\n",
    "        * your/someone else's code is wrong and doesnt' do what it says on the box\n",
    "\n",
    "    * inappropriate object request\n",
    "\n",
    "        * accessing off the end of an array\n",
    "\n",
    "        * accessing an object that doesn't exist\n",
    "\n",
    "    * inconsistent or inappropriate object state\n",
    "\n",
    "        * your class extension messes up an object\n",
    "        \n",
    "* environmental or user errors\n",
    "\n",
    "    * bad input from the user (filename, URL...)\n",
    "    \n",
    "    * network failure\n",
    "    \n",
    "    * missing files\n",
    "    \n",
    "    * no read permission on a file..."
   ]
  },
  {
   "cell_type": "markdown",
   "metadata": {},
   "source": [
    "## Fun with errors\n",
    "\n",
    "Explore error situations with the `address-book` project.\n",
    "\n",
    "### Defensive programming\n",
    "\n",
    "In a client server model, you need to decide how much your server should trust its clients - for proper arguments, etc.\n",
    "\n",
    "* how much should a server check method calls?\n",
    "\n",
    "* how should you report errors?\n",
    "\n",
    "* how can a client anticipate failure?\n",
    "\n",
    "* how should a client deal with a failure?\n"
   ]
  },
  {
   "cell_type": "code",
   "execution_count": 1,
   "metadata": {
    "tags": [
     "nbconvert-hide"
    ]
   },
   "outputs": [],
   "source": [
    "/**\n",
    " * Name, address and telephone number details.\n",
    " * \n",
    " * @author David J. Barnes and Michael Kölling.\n",
    " * @version 2016.02.29\n",
    " */\n",
    "public class ContactDetails implements Comparable<ContactDetails>\n",
    "{\n",
    "    private String name;\n",
    "    private String phone;\n",
    "    private String address;\n",
    "\n",
    "    /**\n",
    "     * Set up the contact details. All details are trimmed to remove\n",
    "     * trailing white space.\n",
    "     * @param name The name.\n",
    "     * @param phone The phone number.\n",
    "     * @param address The address.\n",
    "     */\n",
    "    public ContactDetails(String name, String phone, String address)\n",
    "    {\n",
    "        // Use blank strings if any of the arguments is null.\n",
    "        if(name == null) {\n",
    "            name = \"\";\n",
    "        }\n",
    "        if(phone == null) {\n",
    "            phone = \"\";\n",
    "        }\n",
    "        if(address == null) {\n",
    "            address = \"\";\n",
    "        }\n",
    "        this.name = name.trim();\n",
    "        this.phone = phone.trim();\n",
    "        this.address = address.trim();\n",
    "    }\n",
    "    \n",
    "    /**\n",
    "     * @return The name.\n",
    "     */\n",
    "    public String getName()\n",
    "    {\n",
    "        return name;\n",
    "    }\n",
    "\n",
    "    /**\n",
    "     * @return The telephone number.\n",
    "     */\n",
    "    public String getPhone()\n",
    "    {\n",
    "        return phone;\n",
    "    }\n",
    "\n",
    "    /**\n",
    "     * @return The address.\n",
    "     */\n",
    "    public String getAddress()\n",
    "    {\n",
    "        return address;\n",
    "    }\n",
    "    \n",
    "    /**\n",
    "     * Test for content equality between two objects.\n",
    "     * @param other The object to compare to this one.\n",
    "     * @return true if the argument object is a set\n",
    "     *              of contact details with matching attributes.\n",
    "     */\n",
    "    public boolean equals(Object other)\n",
    "    {\n",
    "        if(other instanceof ContactDetails) {\n",
    "            ContactDetails otherDetails = (ContactDetails) other;\n",
    "            return name.equals(otherDetails.getName()) &&\n",
    "                    phone.equals(otherDetails.getPhone()) &&\n",
    "                     address.equals(otherDetails.getAddress());\n",
    "        }\n",
    "        else {\n",
    "            return false;\n",
    "        }\n",
    "    }\n",
    "\n",
    "    /**\n",
    "     * Compare these details against another set, for the purpose\n",
    "     * of sorting. The fields are sorted by name, phone, and address.\n",
    "     * @param otherDetails The details to be compared against.\n",
    "     * @return a negative integer if this comes before the parameter,\n",
    "     *         zero if they are equal and a positive integer if this\n",
    "     *         comes after the second.\n",
    "     */\n",
    "    public int compareTo(ContactDetails otherDetails)\n",
    "    {\n",
    "        int comparison = name.compareTo(otherDetails.getName());\n",
    "        if(comparison != 0){\n",
    "            return comparison;\n",
    "        }\n",
    "        comparison = phone.compareTo(otherDetails.getPhone());\n",
    "        if(comparison != 0){\n",
    "            return comparison;\n",
    "        }\n",
    "        return address.compareTo(otherDetails.getAddress());\n",
    "    }\n",
    "\n",
    "    /**\n",
    "     * @return A multi-line string containing the name, phone, and address.\n",
    "     */\n",
    "    public String toString()\n",
    "    {\n",
    "        return name + \"\\n\" + phone + \"\\n\" + address;\n",
    "    }\n",
    "\n",
    "    /**\n",
    "     * Compute a hashcode using the rules to be found in\n",
    "     * \"Effective Java\", by Joshua Bloch.\n",
    "     * @return A hashcode for ContactDetails.\n",
    "     */\n",
    "    public int hashCode()\n",
    "    {\n",
    "        int code = 17;\n",
    "        code = 37 * code + name.hashCode();\n",
    "        code = 37 * code + phone.hashCode();\n",
    "        code = 37 * code + address.hashCode();\n",
    "        return code;\n",
    "    }\n",
    "}\n"
   ]
  },
  {
   "cell_type": "code",
   "execution_count": 2,
   "metadata": {},
   "outputs": [],
   "source": [
    "import java.util.Iterator;\n",
    "import java.util.LinkedList;\n",
    "import java.util.List;\n",
    "import java.util.Set;\n",
    "import java.util.SortedMap;\n",
    "import java.util.TreeMap;\n",
    "import java.util.TreeSet;\n",
    "\n",
    "/**\n",
    " * A class to maintain an arbitrary number of contact details.\n",
    " * Details are indexed by both name and phone number.\n",
    " * \n",
    " * @author David J. Barnes and Michael Kölling.\n",
    " * @version 2016.02.29\n",
    " */\n",
    "public class AddressBook\n",
    "{\n",
    "    // Storage for an arbitrary number of details.\n",
    "    private TreeMap<String, ContactDetails> book;\n",
    "    private int numberOfEntries;\n",
    "\n",
    "    /**\n",
    "     * Perform any initialization for the address book.\n",
    "     */\n",
    "    public AddressBook()\n",
    "    {\n",
    "        book = new TreeMap<>();\n",
    "        numberOfEntries = 0;\n",
    "    }\n",
    "    \n",
    "    /**\n",
    "     * Look up a name or phone number and return the\n",
    "     * corresponding contact details.\n",
    "     * @param key The name or number to be looked up.\n",
    "     * @return The details corresponding to the key.\n",
    "     */\n",
    "    public ContactDetails getDetails(String key)\n",
    "    {\n",
    "        return book.get(key);\n",
    "    }\n",
    "\n",
    "    /**\n",
    "     * Return whether or not the current key is in use.\n",
    "     * @param key The name or number to be looked up.\n",
    "     * @return true if the key is in use, false otherwise.\n",
    "     */\n",
    "    public boolean keyInUse(String key)\n",
    "    {\n",
    "        return book.containsKey(key);\n",
    "    }\n",
    "\n",
    "    /**\n",
    "     * Add a new set of details to the address book.\n",
    "     * @param details The details to associate with the person.\n",
    "     */\n",
    "    public void addDetails(ContactDetails details)\n",
    "    {\n",
    "        book.put(details.getName(), details);\n",
    "        book.put(details.getPhone(), details);\n",
    "        numberOfEntries++;\n",
    "    }\n",
    "    \n",
    "    /**\n",
    "     * Change the details previously stored under the given key.\n",
    "     * @param oldKey One of the keys used to store the details.\n",
    "     * @param details The replacement details.\n",
    "     */\n",
    "    public void changeDetails(String oldKey,\n",
    "                              ContactDetails details)\n",
    "    {\n",
    "        removeDetails(oldKey);\n",
    "        addDetails(details);\n",
    "    }\n",
    "    \n",
    "    /**\n",
    "     * Search for all details stored under a key that starts with\n",
    "     * the given prefix.\n",
    "     * @param keyPrefix The key prefix to search on.\n",
    "     * @return An array of those details that have been found.\n",
    "     */\n",
    "    public ContactDetails[] search(String keyPrefix)\n",
    "    {\n",
    "        // Build a list of the matches.\n",
    "        List<ContactDetails> matches = new LinkedList<>();\n",
    "        // Find keys that are equal-to or greater-than the prefix.\n",
    "        SortedMap<String, ContactDetails> tail = book.tailMap(keyPrefix);\n",
    "        Iterator<String> it = tail.keySet().iterator();\n",
    "        // Stop when we find a mismatch.\n",
    "        boolean endOfSearch = false;\n",
    "        while(!endOfSearch && it.hasNext()) {\n",
    "            String key = it.next();\n",
    "            if(key.startsWith(keyPrefix)) {\n",
    "                matches.add(book.get(key));\n",
    "            }\n",
    "            else {\n",
    "                endOfSearch = true;\n",
    "            }\n",
    "        }\n",
    "        ContactDetails[] results = new ContactDetails[matches.size()];\n",
    "        matches.toArray(results);\n",
    "        return results;\n",
    "    }\n",
    "\n",
    "    /**\n",
    "     * Return the number of entries currently in the\n",
    "     * address book.\n",
    "     * @return The number of entries.\n",
    "     */\n",
    "    public int getNumberOfEntries()\n",
    "    {\n",
    "        return numberOfEntries;\n",
    "    }\n",
    "\n",
    "    /**\n",
    "     * Remove an entry with the given key from the address book.\n",
    "     * @param key One of the keys of the entry to be removed.\n",
    "     */\n",
    "    public void removeDetails(String key)\n",
    "    {\n",
    "        ContactDetails details = book.get(key);\n",
    "        book.remove(details.getName());\n",
    "        book.remove(details.getPhone());\n",
    "        numberOfEntries--;\n",
    "    }\n",
    "\n",
    "    /**\n",
    "     * Return all the contact details, sorted according\n",
    "     * to the sort order of the ContactDetails class.\n",
    "     * @return A sorted list of the details.\n",
    "     */\n",
    "    public String listDetails()\n",
    "    {\n",
    "        // Because each entry is stored under two keys, it is\n",
    "        // necessary to build a set of the ContactDetails. This\n",
    "        // eliminates duplicates.\n",
    "        StringBuilder allEntries = new StringBuilder();\n",
    "        Set<ContactDetails> sortedDetails = new TreeSet<>(book.values());\n",
    "        for(ContactDetails details : sortedDetails) {\n",
    "            allEntries.append(details).append(\"\\n\\n\");\n",
    "        }\n",
    "        return allEntries.toString();\n",
    "    }\n",
    "}\n"
   ]
  },
  {
   "cell_type": "code",
   "execution_count": 9,
   "metadata": {},
   "outputs": [
    {
     "name": "stdout",
     "output_type": "stream",
     "text": [
      "2\n"
     ]
    }
   ],
   "source": [
    "AddressBook ab = new AddressBook();\n",
    "\n",
    "ab.addDetails( new ContactDetails(\"Sylvester\", \"111-111-1111\", \"Granny's House\"));\n",
    "\n",
    "ab.addDetails( new ContactDetails(\"Wile E. Coyote\", \"222-222-2222\", \"Desert\"));\n",
    "\n",
    "System.out.println(ab.getNumberOfEntries());"
   ]
  },
  {
   "cell_type": "code",
   "execution_count": 10,
   "metadata": {},
   "outputs": [
    {
     "name": "stdout",
     "output_type": "stream",
     "text": [
      "1\n"
     ]
    }
   ],
   "source": [
    "ab.removeDetails(\"Sylvester\");\n",
    "System.out.println(ab.getNumberOfEntries());"
   ]
  },
  {
   "cell_type": "code",
   "execution_count": 11,
   "metadata": {},
   "outputs": [
    {
     "ename": "EvalException",
     "evalue": "null",
     "output_type": "error",
     "traceback": [
      "\u001b[1m\u001b[31m---------------------------------------------------------------------------\u001b[0m",
      "\u001b[1m\u001b[31mjava.lang.NullPointerException: null\u001b[0m",
      "\u001b[1m\u001b[31m\tat AddressBook.removeDetails(#20:1)\u001b[0m",
      "\u001b[1m\u001b[31m\tat .(#36:1)\u001b[0m"
     ]
    }
   ],
   "source": [
    "ab.removeDetails(\"Tweety\"); // not in the book\n",
    "System.out.println(ab.getNumberOfEntries());"
   ]
  },
  {
   "cell_type": "markdown",
   "metadata": {},
   "source": [
    "### Argument values\n",
    "\n",
    "Values of arguments are a big vulnerability for servers:\n",
    "\n",
    "* constructors could start with invalid or dangerous state\n",
    "\n",
    "* method arguments could corrupt the data in your object\n",
    "\n",
    "Checking arguments can be an important way to defend your server\n",
    "\n",
    "### Error reporting\n",
    "\n",
    "How do you want to report illegal arguments?\n",
    "   \n",
    "* to the user?\n",
    "\n",
    "    * return a value from your method\n",
    "    \n",
    "* to the system log?\n",
    "\n",
    "    * print to `System.err.println`\n",
    "    \n",
    "### Client responses\n",
    "\n",
    "* test return values\n",
    "\n",
    "    * attempt recovery or at least don't blow up\n",
    "    \n",
    "* ignore the return value\n",
    "\n",
    "    * if you can't avoid the error somehow\n",
    "    \n",
    "    * likely to lead to a crash\n",
    "    \n",
    "* use an *exception*\n",
    "\n"
   ]
  },
  {
   "cell_type": "markdown",
   "metadata": {},
   "source": [
    "## Exception Throwing\n",
    "\n",
    "With exceptions we don't need special return values. If the client cannot ignore an error, control flows are interrupted in the program.\n",
    "\n",
    "The server should just `throw` exceptions when methods are called badly. The client may `try ... catch` these.\n",
    "\n",
    "### To throw an exception\n",
    "\n",
    "* an exception object is created: `new cleverExceptionName(\"...\")`\n",
    "\n",
    "* the exception is thrown: `throw cleverExceptionName`\n",
    "\n",
    "* Javadoc: `@throws cleverExceptionType <useful description>`\n",
    "\n"
   ]
  },
  {
   "cell_type": "code",
   "execution_count": null,
   "metadata": {},
   "outputs": [],
   "source": [
    "// getDetails using an exception\n",
    "\n",
    "public ContactDetails getDetails( String key )\n",
    "{\n",
    "    if ( key == null )\n",
    "    {\n",
    "        throw new IllegalArgumentException( \"null key in getDetails\")\n",
    "    }\n",
    "    \n",
    "    return book.get(key); // normal operation of the key-fetcher\n",
    "}"
   ]
  },
  {
   "cell_type": "markdown",
   "metadata": {},
   "source": [
    "### `Exception` inheritance\n",
    "\n",
    "`Exception` inherits from `Throwable`; and `RuntimeException` inherits from `Exception`. \n",
    "\n",
    "#### Checked exceptions\n",
    "\n",
    "* a subclass of `Exception`\n",
    "\n",
    "* checked by the compiler\n",
    "\n",
    "* use for anticipated failures, where recovery may be possible\n",
    "\n",
    "#### Unchecked exceptions\n",
    "\n",
    "* a subclass of `RuntimeException`\n",
    "\n",
    "* not checked by the compiler\n",
    "\n",
    "* use for surprising failures, where there is no route to recovery\n",
    "\n",
    "* terminates the program if not caught\n",
    "\n",
    "### Effects\n",
    "\n",
    "The throwing method exits prematurely; no return value is generated. If the exception is caught, control returns to whoever called the throwing method.\n",
    "\n",
    "#### Preventing object creation\n",
    "\n",
    "If an exception is built into a constructor, an invalid argument can prevent the construction of an object."
   ]
  },
  {
   "cell_type": "code",
   "execution_count": 17,
   "metadata": {},
   "outputs": [],
   "source": [
    "public class Animal\n",
    "{\n",
    "    String name;\n",
    "    String kind;\n",
    "    \n",
    "    public Animal( String name, String kind )\n",
    "    {\n",
    "        if ( name.trim().length() == 0 )\n",
    "        {\n",
    "            throw new IllegalStateException(\"Must specify a name\");\n",
    "        }\n",
    "        \n",
    "        if ( kind.trim().length() == 0 )\n",
    "        {\n",
    "            throw new IllegalStateException(\"Must specify a kind\");\n",
    "        }\n",
    "        \n",
    "        this.name = name;\n",
    "        this.kind = kind;\n",
    "    }\n",
    "}"
   ]
  },
  {
   "cell_type": "code",
   "execution_count": 18,
   "metadata": {},
   "outputs": [],
   "source": [
    "Animal bb = new Animal(\"Bugs\", \"Bunny\");"
   ]
  },
  {
   "cell_type": "code",
   "execution_count": 23,
   "metadata": {},
   "outputs": [
    {
     "ename": "EvalException",
     "evalue": "Must specify a kind",
     "output_type": "error",
     "traceback": [
      "\u001b[1m\u001b[31m---------------------------------------------------------------------------\u001b[0m",
      "\u001b[1m\u001b[31mjava.lang.IllegalStateException: Must specify a kind\u001b[0m",
      "\u001b[1m\u001b[31m\tat Animal.<init>(#37:15)\u001b[0m",
      "\u001b[1m\u001b[31m\tat .(#39:1)\u001b[0m"
     ]
    }
   ],
   "source": [
    "Animal dd = new Animal(\"Daffy\", \"\");"
   ]
  },
  {
   "cell_type": "markdown",
   "metadata": {},
   "source": [
    "#### `throws` clause\n",
    "\n",
    "Indicates that a method throws a checked exception. Add the clause `throws someKindOfException` to the method signature."
   ]
  },
  {
   "cell_type": "markdown",
   "metadata": {},
   "source": [
    "### `try` statement\n",
    "\n",
    "Clients that catch exceptions much protect the call with a `try` statement:\n",
    "\n",
    "```\n",
    "try\n",
    "{\n",
    "    do_something();\n",
    "}\n",
    "catch ( someException e )\n",
    "{\n",
    "    report_bad_thing_somehow();\n",
    "    fix_your_stuff();\n",
    "}\n",
    "```\n",
    "\n",
    "Once the call to `do_something()` in the `try` block throws an exception, execution passes to the `catch` block. If there isn't an exception, control passes through and the `catch` block never executes.\n",
    "\n",
    "To catch multiple exceptions, add more `catch` blocks. Alternately you can multicatch (if you want to take the same action for different exceptions):\n",
    "\n",
    "```\n",
    "catch ( AnvilException | RocketException e )\n",
    "{\n",
    "    System.out.println(\"Ouch\");\n",
    "}\n",
    "```"
   ]
  },
  {
   "cell_type": "code",
   "execution_count": 22,
   "metadata": {},
   "outputs": [
    {
     "name": "stdout",
     "output_type": "stream",
     "text": [
      "Must be duck season\n"
     ]
    }
   ],
   "source": [
    "try\n",
    "{\n",
    "    Animal dd = new Animal(\"Daffy\", \"\");\n",
    "}\n",
    "catch( IllegalStateException e )\n",
    "{\n",
    "    System.out.println(\"Must be duck season\");\n",
    "}"
   ]
  },
  {
   "cell_type": "markdown",
   "metadata": {},
   "source": [
    "### `finally` block\n",
    "\n",
    "The code in the `finally` block executes after the actions in the `try` block, *whether or not an exception is thrown*, even if the `try` or `catch` blocks have a `return` statement. An *uncaught* (or *propagated*) exception will still exit via the `finally` block.\n",
    "\n",
    "```\n",
    "try\n",
    "{\n",
    "    do_something();\n",
    "}\n",
    "catch ( someException e )\n",
    "{\n",
    "    report_bad_thing_somehow();\n",
    "    fix_your_stuff();\n",
    "}\n",
    "\n",
    "finally\n",
    "{\n",
    "    do_this_every_time_I_mean_it();\n",
    "}\n",
    "```"
   ]
  },
  {
   "cell_type": "code",
   "execution_count": 24,
   "metadata": {
    "scrolled": true
   },
   "outputs": [
    {
     "name": "stdout",
     "output_type": "stream",
     "text": [
      "That's all, folks\n"
     ]
    }
   ],
   "source": [
    "try\n",
    "{\n",
    "    Animal pp = new Animal(\"Porky\", \"Pig\");\n",
    "}\n",
    "\n",
    "catch ( IllegalStateException e )\n",
    "{\n",
    "    System.out.println(\"Ouch!\");\n",
    "}\n",
    "\n",
    "finally\n",
    "{\n",
    "    System.out.println(\"That's all, folks\");\n",
    "}"
   ]
  },
  {
   "cell_type": "code",
   "execution_count": 25,
   "metadata": {
    "scrolled": true
   },
   "outputs": [
    {
     "name": "stdout",
     "output_type": "stream",
     "text": [
      "Ouch!\n",
      "That's all, folks\n"
     ]
    }
   ],
   "source": [
    "try\n",
    "{\n",
    "    Animal pp = new Animal(\"\", \"Duck\");\n",
    "}\n",
    "\n",
    "catch ( IllegalStateException e )\n",
    "{\n",
    "    System.out.println(\"Ouch!\");\n",
    "}\n",
    "\n",
    "finally\n",
    "{\n",
    "    System.out.println(\"That's all, folks\");\n",
    "}"
   ]
  },
  {
   "cell_type": "markdown",
   "metadata": {},
   "source": [
    "### Defining new exceptions\n",
    "\n",
    "We can also declare a new exception type; this is just a new class that inherits `Exception`:"
   ]
  },
  {
   "cell_type": "code",
   "execution_count": 29,
   "metadata": {},
   "outputs": [],
   "source": [
    "public class mySuperDuperException extends Exception\n",
    "{\n",
    "    public mySuperDuperException ()\n",
    "    {\n",
    "        System.out.println(\"AWESOME\");\n",
    "    }\n",
    "}"
   ]
  },
  {
   "cell_type": "code",
   "execution_count": 34,
   "metadata": {},
   "outputs": [
    {
     "name": "stdout",
     "output_type": "stream",
     "text": [
      "AWESOME\n"
     ]
    },
    {
     "ename": "EvalException",
     "evalue": "null",
     "output_type": "error",
     "traceback": [
      "\u001b[1m\u001b[31m---------------------------------------------------------------------------\u001b[0m",
      "\u001b[1m\u001b[31mREPL.$JShell$50$mySuperDuperException: null\u001b[0m",
      "\u001b[1m\u001b[31m\tat .(#55:1)\u001b[0m"
     ]
    }
   ],
   "source": [
    "throw new mySuperDuperException();"
   ]
  }
 ],
 "metadata": {
  "celltoolbar": "Tags",
  "kernelspec": {
   "display_name": "Java",
   "language": "java",
   "name": "java"
  },
  "language_info": {
   "codemirror_mode": "java",
   "file_extension": ".jshell",
   "mimetype": "text/x-java-source",
   "name": "Java",
   "pygments_lexer": "java",
   "version": "11.0.5+10"
  }
 },
 "nbformat": 4,
 "nbformat_minor": 2
}

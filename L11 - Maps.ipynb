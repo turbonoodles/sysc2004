{
 "cells": [
  {
   "cell_type": "markdown",
   "metadata": {},
   "source": [
    "# Fun Collection Types\n",
    "\n",
    "## Maps\n",
    "\n",
    "Java's `HashMap` type lets us set up collections of *key/value pairs* that can make associations between objects.\n",
    "\n",
    "Note that the `HashMap` has *two* types: one for the key, and one for the value. Searching the `HashMap` is unidirectional; you need the key to retrieve the value - you cannot retrieve the key based on the value."
   ]
  },
  {
   "cell_type": "code",
   "execution_count": 1,
   "metadata": {},
   "outputs": [
    {
     "name": "stdout",
     "output_type": "stream",
     "text": [
      "(111) 111 1111\n"
     ]
    }
   ],
   "source": [
    "HashMap <String, String> contacts = new HashMap<>();\n",
    "\n",
    "// populate the contact list with some values\n",
    "contacts.put(\"Alice\", \"(111) 111 1111\");\n",
    "contacts.put(\"Bob\", \"(222) 222 2222\");\n",
    "contacts.put(\"Charlie\", \"(333) 333 3333\");\n",
    "\n",
    "String number = contacts.get(\"Alice\");\n",
    "System.out.println(number);"
   ]
  },
  {
   "cell_type": "markdown",
   "metadata": {},
   "source": [
    "## Collections of Primitive Types\n",
    "\n",
    "Ths generic collection classes can be used with all class types, but what about the *primitive* types: `int`, `boolean`?\n",
    "\n",
    "Suppose we want an `ArrayList` of `int`. Primitive types are *not* objects! These must be *wrapped* in objects to be stored in a collection!\n",
    "\n",
    "Wrapper classes exist for all primitive types:\n",
    "\n",
    "\n",
    "| simple type | wrapper class | unwrapper method |\n",
    "| --- | --- | --- |\n",
    "| int         | Integer       | `.intValue()`    |\n",
    "| boolean     | Boolean       |                  |\n",
    "| char        | Character     |                  |\n",
    "| float | Float | |\n",
    "\n",
    "\n",
    "\n",
    "\n",
    "In practice, autoboxing and autounboxing mean we often don't have to do this explicitly."
   ]
  },
  {
   "cell_type": "markdown",
   "metadata": {},
   "source": [
    "## Writing class documentation\n",
    "\n",
    "Your own classes should be documented the same way as the library classes are, in order to facilitate maintenance. Other people should be able to use your class without reading its source code.\n",
    "\n",
    "Include:\n",
    "\n",
    "* class name\n",
    "\n",
    "* a comment describing the overal purpose and characteristics of the class\n",
    "\n",
    "* a version number\n",
    "\n",
    "* the authors' names\n",
    "\n",
    "* documentation for each constructor and method\n",
    "\n",
    "### Methods and Constructors\n",
    "\n",
    "* the name of the method\n",
    "\n",
    "* return type\n",
    "\n",
    "* parameter names and types\n",
    "\n",
    "* author\n",
    "\n",
    "* a description of the purpose and function of the method\n",
    "\n",
    "* a description of each parameter\n",
    "\n",
    "* a description of the value returned"
   ]
  },
  {
   "cell_type": "code",
   "execution_count": 2,
   "metadata": {},
   "outputs": [],
   "source": [
    "/** \n",
    "* This is a dog class\n",
    "* Lets you pet the dog\n",
    "* Good bois only\n",
    "* \n",
    "* @author turbonoodles\n",
    "* @version 1.0\n",
    "*/"
   ]
  },
  {
   "cell_type": "code",
   "execution_count": null,
   "metadata": {},
   "outputs": [],
   "source": [
    "/**\n",
    "* Pet the Dog object\n",
    "*\n",
    "* @param pats number of pets to pet the goodboi\n",
    "* @return integer of successful pets\n",
    "*/\n",
    "public boolean petTheDog( int pats )\n",
    "{\n",
    "    pet_dog_here();\n",
    "}"
   ]
  },
  {
   "cell_type": "markdown",
   "metadata": {},
   "source": [
    "## Visibility modifiers: `public` vs. `private` \n",
    "\n",
    "Public elements are accessible to objects of other classes. Private elements are accessible only to objects of the same class.\n",
    "\n",
    "* Fields should not be public.\n",
    "\n",
    "* Only methods that are intended for use by other classes should be public.\n",
    "\n",
    "    * Helper methods may not need to be public.\n",
    "    \n",
    "### Information Hiding\n",
    "\n",
    "Data belonging to one object is hiddent from other objects. Information hiding increases *independence* of objects. Independence is important for large systems and maintainability.\n",
    "\n",
    "**Information hiding is one of the major ideas behind object-oriented programming.**\n",
    "\n"
   ]
  },
  {
   "cell_type": "markdown",
   "metadata": {},
   "source": [
    "### Class variables\n",
    "\n",
    "Class variables are shared between all instances of a class. It belongs to the class and exists independently of any instances. These are designated by the **`static`** keyword. These are accessed by the class name: `Thermometer.boilingPoint`.\n",
    "\n",
    "This is useful for a field that may need to be the same in all instances; for example, a physical constant like the gravitational acceleration for an object in freefall.\n",
    "\n",
    "#### Constants\n",
    "\n",
    "Variables whose values can be *fixed*. Designated by the **`final`** keyword. `final` fields must be set in their declaration or in the constructor.\n",
    "\n",
    "Setting `static final` is common. Setting this `public` is not a big deal since you can't change it anyway. That *DOES NOT* imply that the concepts are related.\n",
    "\n",
    "Upper-case names are often used for class constants: `public static final POTATOES = 4;`\n",
    "\n",
    "### Class methods\n",
    "\n",
    "A static *method* belongs to its *class* rather than an instance. Static methods are invoked via their class name.\n",
    "\n",
    "Since they are *independent* of instances, the cannot call instance methods and they cannot access fields."
   ]
  },
  {
   "cell_type": "markdown",
   "metadata": {},
   "source": [
    "## Midterm nonsense\n"
   ]
  },
  {
   "cell_type": "markdown",
   "metadata": {},
   "source": [
    "**Question types**:\n",
    "\n",
    "* find and fix an error in a code fragment\n",
    "\n",
    "    * describe the error\n",
    "\n",
    "    * to fix, write one or two lines of code\n",
    "    \n",
    "* insert a method that hasn't been implemented\n",
    "\n",
    "    * names and parameters are provided\n",
    "\n",
    "* given a code fragment/method, what is returned?\n",
    "\n",
    "    * \"simple methods\"\n",
    "\n",
    "* definitely includes collections\n",
    "\n",
    "* 7 or 8 questions\n",
    "    \n",
    "    * no trick questions\n",
    "\n",
    "    * no multiple choice\n",
    "\n",
    "    * time management\n",
    "    \n",
    "    * try to arrive ahead of time\n",
    "\n",
    "**Look over**\n",
    "\n",
    "* control flow structures\n",
    "    \n",
    "    * for:each\n",
    "    \n",
    "    * while\n",
    "    \n",
    "    * Iterators\n",
    "    \n",
    "    * for loop\n",
    "    \n",
    "* ArrayList\n",
    "\n",
    "    * methods\n",
    "\n",
    "* Array\n",
    "\n",
    "* String class\n",
    "\n",
    "* being cagey about Map and 2d-arrays\n",
    "\n",
    "    * might help with a solution but probably not needed\n"
   ]
  },
  {
   "cell_type": "code",
   "execution_count": null,
   "metadata": {},
   "outputs": [],
   "source": []
  }
 ],
 "metadata": {
  "kernelspec": {
   "display_name": "Java",
   "language": "java",
   "name": "java"
  },
  "language_info": {
   "codemirror_mode": "java",
   "file_extension": ".jshell",
   "mimetype": "text/x-java-source",
   "name": "Java",
   "pygments_lexer": "java",
   "version": "11.0.5+10"
  }
 },
 "nbformat": 4,
 "nbformat_minor": 2
}

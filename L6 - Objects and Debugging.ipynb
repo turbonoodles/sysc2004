{
 "cells": [
  {
   "cell_type": "markdown",
   "metadata": {},
   "source": [
    "# More Objects and Debugging\n",
    "\n",
    "## Assignment 2\n",
    "\n",
    "Implement a clock:\n",
    "\n",
    "* hours\n",
    "\n",
    "* minutes \n",
    "\n",
    "* seconds\n",
    "\n",
    "## `this` keyword\n",
    "\n",
    "`this` is a reference to the current object. `this` is generally used in constructors to disambiguate between class fields and constructor parameters (as an example).\n",
    "\n",
    "Compare `self` in Python."
   ]
  },
  {
   "cell_type": "code",
   "execution_count": 12,
   "metadata": {},
   "outputs": [],
   "source": [
    "class Cat\n",
    "{\n",
    "    // class fields\n",
    "    private String name;\n",
    "    private String colour;\n",
    "    \n",
    "    public Cat(String name, String colour)\n",
    "    {\n",
    "        this.name = name;\n",
    "        this.colour = colour;\n",
    "    }\n",
    "    \n",
    "    public void printInfo()\n",
    "    {\n",
    "        System.out.println(\"LOOK IT'S A KITTY!\");\n",
    "        System.out.println(\"Its name is \" + this.name); // not really necessary here but why not\n",
    "        System.out.println(\"Its colour is \" + this.colour);\n",
    "    }\n",
    "}"
   ]
  },
  {
   "cell_type": "code",
   "execution_count": 13,
   "metadata": {},
   "outputs": [],
   "source": [
    "Cat firstCat = new Cat(\"Socks\", \"Black and White\");"
   ]
  },
  {
   "cell_type": "code",
   "execution_count": 14,
   "metadata": {},
   "outputs": [
    {
     "name": "stdout",
     "output_type": "stream",
     "text": [
      "LOOK IT'S A KITTY!\n",
      "Its name is Socks\n",
      "Its colour is Black and White\n"
     ]
    }
   ],
   "source": [
    "firstCat.printInfo()"
   ]
  },
  {
   "cell_type": "markdown",
   "metadata": {},
   "source": [
    "## Mail System"
   ]
  },
  {
   "cell_type": "markdown",
   "metadata": {},
   "source": [
    "## Mail item class"
   ]
  },
  {
   "cell_type": "code",
   "execution_count": 5,
   "metadata": {},
   "outputs": [],
   "source": [
    "/**\n",
    " * A class to model a simple mail item. The item has sender and recipient\n",
    " * addresses and a message string.\n",
    " * \n",
    " * @author David J. Barnes and Michael Kölling\n",
    " * @version 2016.02.29\n",
    " */\n",
    "public class MailItem\n",
    "{\n",
    "    // The sender of the item.\n",
    "    private String from;\n",
    "    // The intended recipient.\n",
    "    private String to;\n",
    "    // The text of the message.\n",
    "    private String message;\n",
    "\n",
    "    /**\n",
    "     * Create a mail item from sender to the given recipient,\n",
    "     * containing the given message.\n",
    "     * @param from The sender of this item.\n",
    "     * @param to The intended recipient of this item.\n",
    "     * @param message The text of the message to be sent.\n",
    "     */\n",
    "    public MailItem(String from, String to, String message)\n",
    "    {\n",
    "        this.from = from;\n",
    "        this.to = to;\n",
    "        this.message = message;\n",
    "    }\n",
    "\n",
    "    /**\n",
    "     * @return The sender of this message.\n",
    "     */\n",
    "    public String getFrom()\n",
    "    {\n",
    "        return from;\n",
    "    }\n",
    "\n",
    "    /**\n",
    "     * @return The intended recipient of this message.\n",
    "     */\n",
    "    public String getTo()\n",
    "    {\n",
    "        return to;\n",
    "    }\n",
    "\n",
    "    /**\n",
    "     * @return The text of the message.\n",
    "     */\n",
    "    public String getMessage()\n",
    "    {\n",
    "        return message;\n",
    "    }\n",
    "\n",
    "    /**\n",
    "     * Print this mail message to the text terminal.\n",
    "     */\n",
    "    public void print()\n",
    "    {\n",
    "        System.out.println(\"From: \" + from);\n",
    "        System.out.println(\"To: \" + to);\n",
    "        System.out.println(\"Message: \" + message);\n",
    "    }\n",
    "}\n"
   ]
  },
  {
   "cell_type": "markdown",
   "metadata": {},
   "source": [
    "## Mail Server"
   ]
  },
  {
   "cell_type": "code",
   "execution_count": 6,
   "metadata": {},
   "outputs": [],
   "source": [
    "import java.util.ArrayList;\n",
    "import java.util.List;\n",
    "import java.util.Iterator;\n",
    "\n",
    "/**\n",
    " * A simple model of a mail server. The server is able to receive\n",
    " * mail items for storage, and deliver them to clients on demand.\n",
    " * \n",
    " * @author David J. Barnes and Michael Kölling\n",
    " * @version 2016.02.29\n",
    " */\n",
    "public class MailServer\n",
    "{\n",
    "    // Storage for the arbitrary number of mail items to be stored\n",
    "    // on the server.\n",
    "    private List<MailItem> items;\n",
    "\n",
    "    /**\n",
    "     * Construct a mail server.\n",
    "     */\n",
    "    public MailServer()\n",
    "    {\n",
    "        items = new ArrayList<>();\n",
    "    }\n",
    "\n",
    "    /**\n",
    "     * Return how many mail items are waiting for a user.\n",
    "     * @param who The user to check for.\n",
    "     * @return How many items are waiting.\n",
    "     */\n",
    "    public int howManyMailItems(String who)\n",
    "    {\n",
    "        int count = 0;\n",
    "        for(MailItem item : items) {\n",
    "            if(item.getTo().equals(who)) {\n",
    "                count++;\n",
    "            }\n",
    "        }\n",
    "        return count;\n",
    "    }\n",
    "\n",
    "    /**\n",
    "     * Return the next mail item for a user or null if there\n",
    "     * are none.\n",
    "     * @param who The user requesting their next item.\n",
    "     * @return The user's next item.\n",
    "     */\n",
    "    public MailItem getNextMailItem(String who)\n",
    "    {\n",
    "        Iterator<MailItem> it = items.iterator();\n",
    "        while(it.hasNext()) {\n",
    "            MailItem item = it.next();\n",
    "            if(item.getTo().equals(who)) {\n",
    "                it.remove();\n",
    "                return item;\n",
    "            }\n",
    "        }\n",
    "        return null;\n",
    "    }\n",
    "\n",
    "    /**\n",
    "     * Add the given mail item to the message list.\n",
    "     * @param item The mail item to be stored on the server.\n",
    "     */\n",
    "    public void post(MailItem item)\n",
    "    {\n",
    "        items.add(item);\n",
    "    }\n",
    "}\n"
   ]
  },
  {
   "cell_type": "markdown",
   "metadata": {},
   "source": [
    "## Mail Client"
   ]
  },
  {
   "cell_type": "code",
   "execution_count": 7,
   "metadata": {},
   "outputs": [],
   "source": [
    "/**\n",
    " * A class to model a simple email client. The client is run by a\n",
    " * particular user, and sends and retrieves mail via a particular server.\n",
    " * \n",
    " * @author David J. Barnes and Michael Kölling\n",
    " * @version 2016.02.29\n",
    " */\n",
    "public class MailClient\n",
    "{\n",
    "    // The server used for sending and receiving.\n",
    "    private MailServer server;\n",
    "    // The user running this client.\n",
    "    private String user;\n",
    "\n",
    "    /**\n",
    "     * Create a mail client run by user and attached to the given server.\n",
    "     */\n",
    "    public MailClient(MailServer server, String user)\n",
    "    {\n",
    "        this.server = server;\n",
    "        this.user = user;\n",
    "    }\n",
    "\n",
    "    /**\n",
    "     * Return the next mail item (if any) for this user.\n",
    "     */\n",
    "    public MailItem getNextMailItem()\n",
    "    {\n",
    "        return server.getNextMailItem(user);\n",
    "    }\n",
    "\n",
    "    /**\n",
    "     * Print the next mail item (if any) for this user to the text \n",
    "     * terminal.\n",
    "     */\n",
    "    public void printNextMailItem()\n",
    "    {\n",
    "        MailItem item = server.getNextMailItem(user);\n",
    "        if(item == null) {\n",
    "            System.out.println(\"No new mail.\");\n",
    "        }\n",
    "        else {\n",
    "            item.print();\n",
    "        }\n",
    "    }\n",
    "\n",
    "    /**\n",
    "     * Send the given message to the given recipient via\n",
    "     * the attached mail server.\n",
    "     * @param to The intended recipient.\n",
    "     * @param message The text of the message to be sent.\n",
    "     */\n",
    "    public void sendMailItem(String to, String message)\n",
    "    {\n",
    "        MailItem item = new MailItem(user, to, message);\n",
    "        server.post(item);\n",
    "    }\n",
    "}\n"
   ]
  },
  {
   "cell_type": "markdown",
   "metadata": {},
   "source": [
    "## Debugger\n",
    "\n",
    "The debugger is a tool to help examine how a program executes. The debugger will help us troubleshoot *logical errors*, not *syntax errors* or other compile errors; the program must actually run in order to be debugged. The debugger will let us read out program variables at various *breakpoints* we can set in the program.\n",
    "\n",
    "BlueJ's debugger has five panes:\n",
    "\n",
    "* *instance variables*: the fields of an object\n",
    "\n",
    "* *static variables*: constants marked with the `static` keyword; probably global\n",
    "\n",
    "* *local variables*: variables that are part of a method call\n",
    "\n",
    "* *call sequence*: a *stack* of the methods called. The one on top is the one currently executing.\n",
    "\n",
    "`printf` debugging isn't gonna work here. Actually debug this thing in BlueJ. Instructions are in the textbook at the end of chapter 3."
   ]
  },
  {
   "cell_type": "code",
   "execution_count": 15,
   "metadata": {},
   "outputs": [],
   "source": [
    "MailServer ms = new MailServer();\n",
    "MailClient sophie = new MailClient(ms, \"sophie\");\n",
    "MailClient juan = new MailClient(ms, \"juan\");"
   ]
  },
  {
   "cell_type": "code",
   "execution_count": 16,
   "metadata": {},
   "outputs": [],
   "source": [
    "sophie.sendMailItem(\"juan\", \"catch this potato\");"
   ]
  },
  {
   "cell_type": "code",
   "execution_count": 17,
   "metadata": {},
   "outputs": [
    {
     "name": "stdout",
     "output_type": "stream",
     "text": [
      "From: sophie\n",
      "To: juan\n",
      "Message: catch this potato\n"
     ]
    }
   ],
   "source": [
    "juan.printNextMailItem();"
   ]
  },
  {
   "cell_type": "code",
   "execution_count": 18,
   "metadata": {},
   "outputs": [
    {
     "name": "stdout",
     "output_type": "stream",
     "text": [
      "No new mail.\n"
     ]
    }
   ],
   "source": [
    "juan.printNextMailItem();"
   ]
  },
  {
   "cell_type": "code",
   "execution_count": 20,
   "metadata": {},
   "outputs": [],
   "source": [
    "juan.sendMailItem(\"sophie\", \"epstein didn't kill himself\");"
   ]
  },
  {
   "cell_type": "code",
   "execution_count": 21,
   "metadata": {},
   "outputs": [
    {
     "name": "stdout",
     "output_type": "stream",
     "text": [
      "From: juan\n",
      "To: sophie\n",
      "Message: epstein didn't kill himself\n"
     ]
    }
   ],
   "source": [
    "sophie.printNextMailItem();"
   ]
  },
  {
   "cell_type": "code",
   "execution_count": null,
   "metadata": {},
   "outputs": [],
   "source": []
  }
 ],
 "metadata": {
  "kernelspec": {
   "display_name": "Java",
   "language": "java",
   "name": "java"
  },
  "language_info": {
   "codemirror_mode": "java",
   "file_extension": ".jshell",
   "mimetype": "text/x-java-source",
   "name": "Java",
   "pygments_lexer": "java",
   "version": "11.0.5+10"
  }
 },
 "nbformat": 4,
 "nbformat_minor": 2
}

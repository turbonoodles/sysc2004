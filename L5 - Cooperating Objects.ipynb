{
 "cells": [
  {
   "cell_type": "markdown",
   "metadata": {},
   "source": [
    "# Object Interaction\n",
    "\n",
    "## Clocks\n",
    "\n",
    "The next code block is from the *clock-display* example (in Chapter 3).\n",
    "\n",
    "A digital clock displays time by counting seconds. This is not exactly earth-shattering news. Let's write one in Java, and make use of *abstraction* and *modularity*.\n",
    "\n",
    "### Abstraction\n",
    "\n",
    "The ability to ignore implementation details in order to focus our attention on a higher-level problem. For example, we need not track every electron through a circuit in order to know what the circuit actually does.\n",
    "\n",
    "### Modularization\n",
    "\n",
    "Breaking the problem into smaller, well-defined parts, which can be built and tested separately. These parts must interact in well-defined ways. For example, to build a car, we might first build an engine. To build an engine, we might first build a block with cylinders. It is now important that the piston fits within the cylinder.\n",
    "\n",
    "### Back to the Clock\n",
    "\n",
    "We can use these concepts to build our clock as a *hierarchical modular system*. Do we want to build our clock as \n",
    "\n",
    "- one monolithic 4-digit clock?\n",
    "\n",
    "- two two-digit systems?\n",
    "\n",
    "    - easy to build - only need to figure out the logic once\n",
    "    \n",
    "    - easy to debug and test\n",
    "    \n",
    "    - need some overarching logic to turn into a single clock tho"
   ]
  },
  {
   "cell_type": "markdown",
   "metadata": {},
   "source": [
    "## The `NumberDisplay` class\n",
    "\n",
    "This class implements a generic counter with a rollover at a limit specified in the constructor. Calling `increment()` will cause the counter to increase its value by one. Once the count reaches the limit, it will reset to zero."
   ]
  },
  {
   "cell_type": "code",
   "execution_count": 15,
   "metadata": {},
   "outputs": [],
   "source": [
    "/**\n",
    " * The NumberDisplay class represents a digital number display that can hold\n",
    " * values from zero to a given limit. The limit can be specified when creating\n",
    " * the display. The values range from zero (inclusive) to limit-1. If used,\n",
    " * for example, for the seconds on a digital clock, the limit would be 60, \n",
    " * resulting in display values from 0 to 59. When incremented, the display \n",
    " * automatically rolls over to zero when reaching the limit.\n",
    " * \n",
    " * @author Michael Kölling and David J. Barnes\n",
    " * @version 2016.02.29\n",
    " */\n",
    "public class NumberDisplay\n",
    "{\n",
    "    private int limit;\n",
    "    private int value;\n",
    "\n",
    "    /**\n",
    "     * Constructor for objects of class NumberDisplay.\n",
    "     * Set the limit at which the display rolls over.\n",
    "     */\n",
    "    public NumberDisplay(int rollOverLimit)\n",
    "    {\n",
    "        limit = rollOverLimit;\n",
    "        value = 0;\n",
    "    }\n",
    "\n",
    "    /**\n",
    "     * Return the current value.\n",
    "     */\n",
    "    public int getValue()\n",
    "    {\n",
    "        return value;\n",
    "    }\n",
    "\n",
    "    /**\n",
    "     * Return the display value (that is, the current value as a two-digit\n",
    "     * String. If the value is less than ten, it will be padded with a leading\n",
    "     * zero).\n",
    "     */\n",
    "    public String getDisplayValue()\n",
    "    {\n",
    "        if(value < 10) {\n",
    "            return \"0\" + value;\n",
    "        }\n",
    "        else {\n",
    "            return \"\" + value;\n",
    "        }\n",
    "    }\n",
    "\n",
    "    /**\n",
    "     * Set the value of the display to the new specified value. If the new\n",
    "     * value is less than zero or over the limit, do nothing.\n",
    "     */\n",
    "    public void setValue(int replacementValue)\n",
    "    {\n",
    "        if((replacementValue >= 0) && (replacementValue < limit)) {\n",
    "            value = replacementValue;\n",
    "        }\n",
    "    }\n",
    "\n",
    "    /**\n",
    "     * Increment the display value by one, rolling over to zero if the\n",
    "     * limit is reached.\n",
    "     */\n",
    "    public void increment()\n",
    "    {\n",
    "        value = (value + 1) % limit;\n",
    "    }\n",
    "}"
   ]
  },
  {
   "cell_type": "markdown",
   "metadata": {},
   "source": [
    "## The `ClockDisplay` class\n",
    "\n",
    "This class contains two instances of the `NumberDisplay`, one each for the hours counter and the minutes counter. Each of these obviously gets constructed with different rollover limits.\n",
    "\n",
    "The *composition* of the three objects is accomplished by declaring the two *private objects*, just as we would do with normal fields, in the top of `ClockDisplay` before the constructor method. These have type `NumberDisplay` - every class is a unique datatype.\n",
    "\n",
    "Note that object names are *references*. A side effect of this is that if you set two objects equal to each other, *you will end up with two references to the same object*.\n",
    "\n",
    "### `timeTick()`\n",
    "\n",
    "This method wraps around the `increment()` method of both the `NumberDisplay` objects within the clock. It is responsible for working out if the the minute counter rolled over and if so, increments the hour counter."
   ]
  },
  {
   "cell_type": "code",
   "execution_count": 16,
   "metadata": {},
   "outputs": [],
   "source": [
    "/**\n",
    " * The ClockDisplay class implements a digital clock display for a\n",
    " * European-style 24 hour clock. The clock shows hours and minutes. The \n",
    " * range of the clock is 00:00 (midnight) to 23:59 (one minute before \n",
    " * midnight).\n",
    " * \n",
    " * The clock display receives \"ticks\" (via the timeTick method) every minute\n",
    " * and reacts by incrementing the display. This is done in the usual clock\n",
    " * fashion: the hour increments when the minutes roll over to zero.\n",
    " * \n",
    " * @author Michael Kölling and David J. Barnes\n",
    " * @version 2016.02.29\n",
    " */\n",
    "public class ClockDisplay\n",
    "{\n",
    "    private NumberDisplay hours;\n",
    "    private NumberDisplay minutes;\n",
    "    private String displayString;    // simulates the actual display\n",
    "    \n",
    "    /**\n",
    "     * Constructor for ClockDisplay objects. This constructor \n",
    "     * creates a new clock set at 00:00.\n",
    "     */\n",
    "    public ClockDisplay()\n",
    "    {\n",
    "        hours = new NumberDisplay(24);  // note that the parameter is passed in here\n",
    "        minutes = new NumberDisplay(60);\n",
    "        updateDisplay();\n",
    "    }\n",
    "\n",
    "    /**\n",
    "     * Constructor for ClockDisplay objects. This constructor\n",
    "     * creates a new clock set at the time specified by the \n",
    "     * parameters.\n",
    "     */\n",
    "    public ClockDisplay(int hour, int minute)\n",
    "    {\n",
    "        hours = new NumberDisplay(24);\n",
    "        minutes = new NumberDisplay(60);\n",
    "        setTime(hour, minute);\n",
    "    }\n",
    "\n",
    "    /**\n",
    "     * This method should get called once every minute - it makes\n",
    "     * the clock display go one minute forward.\n",
    "     */\n",
    "    public void timeTick()\n",
    "    {\n",
    "        minutes.increment();\n",
    "        if(minutes.getValue() == 0) {  // it just rolled over!\n",
    "            hours.increment();\n",
    "        }\n",
    "        updateDisplay();\n",
    "    }\n",
    "\n",
    "    /**\n",
    "     * Set the time of the display to the specified hour and\n",
    "     * minute.\n",
    "     */\n",
    "    public void setTime(int hour, int minute)\n",
    "    {\n",
    "        hours.setValue(hour);\n",
    "        minutes.setValue(minute);\n",
    "        updateDisplay();\n",
    "    }\n",
    "\n",
    "    /**\n",
    "     * Return the current time of this display in the format HH:MM.\n",
    "     */\n",
    "    public String getTime()\n",
    "    {\n",
    "        return displayString;\n",
    "    }\n",
    "    \n",
    "    /**\n",
    "     * Update the internal string that represents the display.\n",
    "     */\n",
    "    private void updateDisplay()\n",
    "    {\n",
    "        displayString = hours.getDisplayValue() + \":\" + \n",
    "                        minutes.getDisplayValue();\n",
    "    }\n",
    "}"
   ]
  },
  {
   "cell_type": "code",
   "execution_count": 17,
   "metadata": {},
   "outputs": [],
   "source": [
    "ClockDisplay clocky = new ClockDisplay()"
   ]
  },
  {
   "cell_type": "code",
   "execution_count": 18,
   "metadata": {},
   "outputs": [],
   "source": [
    "clocky.setTime(11, 58);"
   ]
  },
  {
   "cell_type": "code",
   "execution_count": 19,
   "metadata": {},
   "outputs": [
    {
     "data": {
      "text/plain": [
       "11:58"
      ]
     },
     "execution_count": 19,
     "metadata": {},
     "output_type": "execute_result"
    }
   ],
   "source": [
    "clocky.getTime();"
   ]
  },
  {
   "cell_type": "code",
   "execution_count": 20,
   "metadata": {},
   "outputs": [
    {
     "data": {
      "text/plain": [
       "11:59"
      ]
     },
     "execution_count": 20,
     "metadata": {},
     "output_type": "execute_result"
    }
   ],
   "source": [
    "clocky.timeTick();\n",
    "clocky.getTime();"
   ]
  },
  {
   "cell_type": "code",
   "execution_count": 21,
   "metadata": {},
   "outputs": [
    {
     "data": {
      "text/plain": [
       "12:00"
      ]
     },
     "execution_count": 21,
     "metadata": {},
     "output_type": "execute_result"
    }
   ],
   "source": [
    "clocky.timeTick();\n",
    "clocky.getTime();"
   ]
  },
  {
   "cell_type": "code",
   "execution_count": 22,
   "metadata": {},
   "outputs": [
    {
     "data": {
      "text/plain": [
       "12:01"
      ]
     },
     "execution_count": 22,
     "metadata": {},
     "output_type": "execute_result"
    }
   ],
   "source": [
    "clocky.timeTick();\n",
    "clocky.getTime();"
   ]
  },
  {
   "cell_type": "markdown",
   "metadata": {},
   "source": [
    "## Object names are references\n",
    "\n",
    "First we create some `int`s:"
   ]
  },
  {
   "cell_type": "code",
   "execution_count": 24,
   "metadata": {},
   "outputs": [
    {
     "name": "stdout",
     "output_type": "stream",
     "text": [
      "32\n"
     ]
    }
   ],
   "source": [
    "int a;\n",
    "int b;\n",
    "a = 32;\n",
    "b = a;\n",
    "System.out.println(b);"
   ]
  },
  {
   "cell_type": "markdown",
   "metadata": {},
   "source": [
    "Well, that does exactly the right thing that we expected it to do. (Honestly, for Java, that's like the first time ever.)\n",
    "\n",
    "Now, with a custom class object instead:"
   ]
  },
  {
   "cell_type": "code",
   "execution_count": 23,
   "metadata": {},
   "outputs": [
    {
     "name": "stdout",
     "output_type": "stream",
     "text": [
      "Delmar\n"
     ]
    }
   ],
   "source": [
    "class Person\n",
    "{\n",
    "    private String name;\n",
    "    \n",
    "    public Person(String newName)\n",
    "    {\n",
    "        name = newName;\n",
    "    }\n",
    "    \n",
    "    public void changeName( String newName )\n",
    "    {\n",
    "        name = newName;\n",
    "    }\n",
    "    \n",
    "    public String getName()\n",
    "    {\n",
    "        return name;\n",
    "    }\n",
    "}\n",
    "\n",
    "Person a;\n",
    "Person b;\n",
    "a = new Person(\"Everett\");\n",
    "b = a; // now b and are the same reference\n",
    "a.changeName(\"Delmar\");\n",
    "System.out.println(b.getName());"
   ]
  },
  {
   "cell_type": "markdown",
   "metadata": {},
   "source": [
    "## Object Interaction\n",
    "\n",
    "Two objects interact when one object calls a method on another object. This interaction is commonly in one direction only -  a \"client/server\" relationship.\n",
    "\n",
    "In the example, two `NumberDisplay` objects store data on the behalf of `ClockDisplay`:\n",
    "\n",
    "- `ClockDisplay` is a client object\n",
    "    \n",
    "    - `ClockDisplay` exposes useful services, like actually telling the time\n",
    "    \n",
    "        - these are known as *client methods*\n",
    "\n",
    "- `NumberDisplay` is a server object\n",
    "\n",
    "    - `ClockDisplay` only receives data from `NumberDisplay`\n",
    "    \n",
    "    - `ClockDisplay` calls methods that change the fields in `NumberDisplay`\n",
    "    \n",
    "        - these are *server methods*\n",
    "    \n",
    "### Constructor and Method Overloading\n",
    "\n",
    "A class may contain more than one constructor, or more than one method with the same name, so long as each has a distince set of parameter types. A constructor with *no* parameters is called the *default constructor*."
   ]
  },
  {
   "cell_type": "markdown",
   "metadata": {},
   "source": [
    "### Internal method calls\n",
    "\n",
    "We can call a method within its own class. These calls do not use dot notation, and are sometimes called *helper methods*. `updateDisplay` in `ClockDisplay` is an example of an internal method; its usage can be seen in `timeTick()`.\n",
    "\n",
    "If a method is meant to be used in this way, its visibility is often set to `private` so it can only be used inside the class."
   ]
  },
  {
   "cell_type": "code",
   "execution_count": null,
   "metadata": {},
   "outputs": [],
   "source": []
  }
 ],
 "metadata": {
  "kernelspec": {
   "display_name": "Java",
   "language": "java",
   "name": "java"
  },
  "language_info": {
   "codemirror_mode": "java",
   "file_extension": ".jshell",
   "mimetype": "text/x-java-source",
   "name": "Java",
   "pygments_lexer": "java",
   "version": "11.0.5+10"
  }
 },
 "nbformat": 4,
 "nbformat_minor": 2
}

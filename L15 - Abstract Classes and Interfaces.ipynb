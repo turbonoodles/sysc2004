{
 "cells": [
  {
   "cell_type": "markdown",
   "metadata": {},
   "source": [
    "# More Abstraction: Abstract classes and Interfaces\n",
    "\n",
    "## Simulation\n",
    "\n",
    "Many programs are used for simulation in science, engineering, medicine and economics. Generally these are only partial simulations; they include simplifications because the underlying system is only empirically understood. The greater the detail, generally the more processing time and the more programming effort is needed.\n",
    "\n",
    "*Benefits*\n",
    "\n",
    "* support useful predictions\n",
    "\n",
    "* allow experiments that would be precluded for ethical or economic reasons"
   ]
  },
  {
   "cell_type": "markdown",
   "metadata": {},
   "source": [
    "## `foxes-rabbits`\n",
    "\n",
    "A predator-prey model for foxes and rabbits, simulating if a highway is built. Run this in an IDE; it's like 17 files and a nightmare to try and paste in here.\n",
    "\n",
    "### `Rabbit`\n",
    "\n",
    "Simple model of a prey species.\n",
    "\n",
    "#### State\n",
    "\n",
    "* age: how old in this `Rabbit`?\n",
    "\n",
    "* `alive`: is this `Rabbit` still kickin? False means a `Fox` ate it.\n",
    "\n",
    "* `location`: where is the `Rabbit`?\n",
    "\n",
    "* `field`: the field this `Rabbit` lives on\n",
    "\n",
    "`Rabbit` state is managed by the `run` method. This method might cause the `Rabbit` to breed or die of old age.\n",
    "\n",
    "### `Fox`\n",
    "\n",
    "Simple model of a predator\n",
    "\n",
    "#### State\n",
    "\n",
    "* everything `Rabbit` has and\n",
    "\n",
    "* `foodLevel`: how full of `Rabbit` is this `Fox`? Increased by eating `Rabbit`s.\n",
    "\n",
    "`Fox` state is mananged by the `hunt` method. \n",
    "\n",
    "### `Simulator`\n",
    "\n",
    "Manages the overall simulation task. Holds collections of `Fox`s and `Rabbit`s.\n",
    "\n",
    "#### State\n",
    "\n",
    "* constructor setup\n",
    "\n",
    "* `populate`\n",
    "\n",
    "    * each animal is given a random starting age\n",
    "\n",
    "* `update`\n",
    "\n",
    "\n",
    "\n",
    "### `Field` \n",
    "\n",
    "Represents a 2d grid\n",
    "\n",
    "### `Location`\n",
    "\n",
    "Represents a 2d location on the `Field` with a row and column value.\n",
    "\n",
    "### `FieldStats`, `Counter`\n",
    "\n",
    "Keep track of the statistics.\n",
    "\n",
    "### `Randomizer`\n",
    "\n",
    "Generate random seeds for the simulation - randomizing starting conditions and \n",
    "\n",
    "### Room for improvement\n",
    "\n",
    "* a lot of commonality between `Fox` and `Rabbit`\n",
    "\n",
    "* the `Simulator` needs to know a lot about `Fox`es and `Rabbit`s.\n"
   ]
  },
  {
   "cell_type": "markdown",
   "metadata": {},
   "source": [
    "## `Animal` superclass\n",
    "\n",
    "We could place common field like `age` and `alive` in `Animal`; then rename `run` and `hunt` for information hiding. `Simulator` can now be decoupled from the objects it acts on.\n",
    "\n",
    "### `act()`\n",
    "\n",
    "Static type checking requires there be an `act()` method in `Animal`. However, the desired outcomes are very different in `Fox` and `Rabbit`: there is no obvious shared implementation. Instead we can declare `act()` as an *abstract* method: a method *with no body*.\n",
    "\n",
    "## Abstract Classes and Methods\n",
    "\n",
    "* abstract methods have `abstract` in the signature\n",
    "\n",
    "* abstract methods have no body\n",
    "\n",
    "* abstract methods make *the entire class abstract*\n",
    "\n",
    "* **abstract classes cannot in instantiated** - you cannot create an object from them\n",
    "\n",
    "* concrete (that is, not abstract) subclasses complete the implementation\n",
    "\n"
   ]
  },
  {
   "cell_type": "markdown",
   "metadata": {},
   "source": [
    "## Implementing `Animal`"
   ]
  },
  {
   "cell_type": "code",
   "execution_count": null,
   "metadata": {},
   "outputs": [],
   "source": [
    "public abstract class Animal\n",
    "{\n",
    "    // fields omitted\n",
    "    \n",
    "    abstract public void act(List<Animal> newAnimals); // SEMICOLON HERE!!!\n",
    "}"
   ]
  },
  {
   "cell_type": "markdown",
   "metadata": {},
   "source": [
    "## Extending the simulation\n",
    "\n",
    "What if you also have a `Hunter`? That's not an animal, it probably acts differently. Instead, we can create another abstract superclass `Actor` that includes things common to being on the field.\n",
    "\n",
    "### Multiple inheritance\n",
    "\n",
    "Say you also wanted to have your simulation support `Ants` that behave like `Animal`s but cannot be drawn on the grid. You could have a class `Drawable` that deals with grid operations. What do you do with `Rabbit`?\n",
    "\n",
    "This cannot be done in Java - a single class *cannot* inherit from two classes simultaneously (called \"multiple inheritance\"). However, Java permits multiple inheritance for *interfaces*."
   ]
  },
  {
   "cell_type": "markdown",
   "metadata": {},
   "source": [
    "## Interfaces\n",
    "\n",
    "An interface is essentially a chunk of method prototypes that constitute a contract about the function of an object with the outside world and end users which is enforced by the compiler at build time.\n",
    "\n",
    "A Java interface:\n",
    "\n",
    "* uses `interface` rather than `class` at declaration\n",
    "\n",
    "* does not contain a constructor\n",
    "\n",
    "* contains no instance fields\n",
    "\n",
    "* only fields that are constant class fields with `public` visibility are allowed\n",
    "\n",
    "* abstract methods do not need to include `abstract` in their header\n",
    "\n",
    "### Default methods\n",
    "\n",
    "Methods marked `default` in an interface have a body, which will be inherited by all inheriting classes.\n",
    "\n",
    "Classes that inherit from two different interfaces which have default methods with the same signature must override that default method.\n",
    "\n",
    "### Interface as specifications\n",
    "\n",
    "Interfaces separate functionality from implementation strongly; the client-side interaction is entirely separate from the implementation and allow clients to choose different implementations.\n",
    "\n",
    "`List`, `LinkedList` and `ArrayList` are examples of this."
   ]
  },
  {
   "cell_type": "code",
   "execution_count": 1,
   "metadata": {},
   "outputs": [],
   "source": [
    "public interface Actor\n",
    "{\n",
    "    void act(List<Actor> newActors);\n",
    "}\n",
    "\n",
    "public class Fox extends Animal implements Drawable\n",
    "{\n",
    "    // class body\n",
    "}"
   ]
  },
  {
   "cell_type": "markdown",
   "metadata": {},
   "source": [
    "## The `Class` class\n",
    "\n",
    "A `Class` object is returned by `getClass()` in `Object`. The `.class` suffix provides a `Class` object (example: `Fox.class`). \n"
   ]
  },
  {
   "cell_type": "code",
   "execution_count": null,
   "metadata": {},
   "outputs": [],
   "source": []
  }
 ],
 "metadata": {
  "kernelspec": {
   "display_name": "Java",
   "language": "java",
   "name": "java"
  },
  "language_info": {
   "codemirror_mode": "java",
   "file_extension": ".jshell",
   "mimetype": "text/x-java-source",
   "name": "Java",
   "pygments_lexer": "java",
   "version": "11.0.5+10"
  }
 },
 "nbformat": 4,
 "nbformat_minor": 4
}

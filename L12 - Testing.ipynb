{
 "cells": [
  {
   "cell_type": "markdown",
   "metadata": {},
   "source": [
    "# Testing Methods\n",
    "\n",
    "Testing and debugging are closely related.\n",
    "\n",
    "We have already tested our code manually (in the labs); this is not sufficient for large systems, so we would like to explore *automated* testing. Testing is expensive! Make the computer do it.\n",
    "\n",
    "## Testing topics\n",
    "\n",
    "Generally, early in the development of a program, we may have *syntax* errors, which will be spotted by the compiler. \n",
    "\n",
    "Later in development, we may see *logic errors* where the program runs but returns incorrect results. The compiler cannot help here. Some logical errors have no obvious manifestation."
   ]
  },
  {
   "cell_type": "markdown",
   "metadata": {},
   "source": [
    "\n",
    "### Test-driven development\n",
    "\n",
    "Once we write a class, *from the beginning*, we attached a test class to it. \n",
    "\n",
    "Ideally  we would have a different person develop the tests than wrote the code under test. In large companies these may be entirely different job descriptions."
   ]
  },
  {
   "cell_type": "markdown",
   "metadata": {},
   "source": [
    "#### Error prevention\n",
    "\n",
    "- use good software development practices, like encapsulation\n",
    "\n",
    "- try to decouple your classes as much as possible to avoid weirdness in the interfaces\n",
    "\n",
    "- *cohesion*: make the same thing happen in the same object\n",
    "\n",
    "- use modularization to make errors more obvious\n",
    "\n",
    "- write good documentation to make errors detectable"
   ]
  },
  {
   "cell_type": "markdown",
   "metadata": {},
   "source": [
    "## Testing vs. Debugging\n",
    "\n",
    "Testing is the practice of searching a class or method for errors. Debugging is about finding the exact source of an error - which might be some distance from where it manifests - and then fixing the error. \n",
    "\n",
    "### Test Techniques\n",
    "\n",
    "#### Unit Testing\n",
    "\n",
    "Each *unit* of an application can be tested - like a class or module. Do this during development - fixing errors early saves time and money. Fixing errors after deployment is especially expensive.\n",
    "\n",
    "First, understand what the unit should do - its *contract* with the outside world.\n",
    "\n",
    "Test the *boundary conditions*. If you have an array:\n",
    "\n",
    "- test a full array\n",
    "\n",
    "- test an empty array\n",
    "\n",
    "- add to a fully array\n",
    "\n",
    "- remove from an empty array\n",
    "\n",
    "- remove the last element\n",
    "\n",
    "- and more...?\n",
    "\n",
    "This and other checks will make up the *test suite*.\n",
    "\n",
    "\n",
    "#### Regression Testing\n",
    "\n",
    "After making changes to the code, you should run your test suite again in order to make sure you have not introduced an exciting new bug. This practice is called *regression testing*.\n",
    "\n",
    "#### Test Automation\n",
    "\n",
    "Good testing is important, but throrough testing is time consuming and repetitive. Good thing we have a computer! Using a *test rig* or *test harness* relieves some of the burden.\n",
    "\n",
    "An additional test harness is written to automate testing. Objects of the harness replace typing stuff in manually. You need to keep the test classes up to date as you add functionality to the class under test.\n",
    "\n",
    "Test frameworks like `jUnit` exist to support automation. Look at the *online-shop-junit* project.\n",
    "\n",
    "#### Assertions\n",
    "\n",
    "Used to compare the results of the unit under test against the desired result.\n",
    "\n",
    "#### `setUp()`  and `tearDown()`\n",
    "\n",
    "Defined in every `jUnit` test class. `setUp()` runs before the test suite and `tearDown()` runs after.\n"
   ]
  },
  {
   "cell_type": "markdown",
   "metadata": {},
   "source": [
    "### Unit Tests in BlueJ\n",
    "\n",
    "BlueJ's interface allows you to\n",
    "\n",
    "- create class instances\n",
    "\n",
    "- invoke individual class methods\n",
    "\n",
    "- inspectors provide a view into an object's state\n",
    "\n",
    "#### Doing the thing\n",
    "\n",
    "- select View $\\rightarrow$ Show Team and Test Controls, then click Run Tests\n",
    "\n",
    "- right click the test class in the boxes/arrows pane, and then select a test to run it"
   ]
  },
  {
   "cell_type": "markdown",
   "metadata": {},
   "source": [
    "## Debugging Methods\n",
    "\n",
    "### Manual walkthroughs\n",
    "\n",
    "Because coding exams are *so much fun*. Low tech, often underappreciated.\n",
    "\n",
    "### Tabulating Object State\n",
    "\n",
    "Read the code, and follow the state of objects through program execution\n",
    "\n",
    "### Verbal walkthroughs\n",
    "\n",
    "Explain your problem to someone else. They might find it or you might because you explained it.\n",
    "\n",
    "### Print Statements\n",
    "\n",
    "Super common - just print useful chunks of state to the terminal. Works in every language."
   ]
  },
  {
   "cell_type": "code",
   "execution_count": null,
   "metadata": {},
   "outputs": [],
   "source": []
  }
 ],
 "metadata": {
  "kernelspec": {
   "display_name": "Java",
   "language": "java",
   "name": "java"
  },
  "language_info": {
   "codemirror_mode": "java",
   "file_extension": ".jshell",
   "mimetype": "text/x-java-source",
   "name": "Java",
   "pygments_lexer": "java",
   "version": "11.0.5+10"
  }
 },
 "nbformat": 4,
 "nbformat_minor": 2
}

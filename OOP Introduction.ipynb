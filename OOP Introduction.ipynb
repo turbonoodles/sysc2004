{
 "cells": [
  {
   "cell_type": "markdown",
   "metadata": {},
   "source": [
    "# Introduction to Object-Oriented Programming\n",
    "\n",
    "## Buzzword Compliance\n",
    "* responsibility-driven design\n",
    "* inheritance\n",
    "* encapsulation\n",
    "* overriding\n",
    "* collection classes\n",
    "\n",
    "## Goals\n",
    "* knowledege of programming principles\n",
    "* sound knowledge of OOP\n",
    "* critical assessement of small sofware systems\n",
    "* design, build and test well-behaved objects\n",
    "\n",
    "## Classes\n",
    "\n",
    "A category or type of thing (compare `struct` in C). A template or a blueprint. Unlike a `struct` in C, can contain both data and *instructions* that may be performed on the data stored in the class. The class should describe all objects of a particular kind in an *abstract* way.\n",
    "\n",
    "## Objects\n",
    "\n",
    "An *object* belongs to a particular class and has individual characteristics. An instance of a class.\n",
    "\n",
    "For example, for a class grading app, `Student` may be declared as a class. Objects `Alice`, `Bob`, `Charles` represent the individual students in the class. `Student.average()` could return the grade point average for a particular student.\n",
    "\n",
    "## Methods\n",
    "\n",
    "We communicate with objects by invoking methods on them. An object is usually expected to do something when its methods are called.\n"
   ]
  }
 ],
 "metadata": {
  "kernelspec": {
   "display_name": "Java",
   "language": "java",
   "name": "java"
  },
  "language_info": {
   "codemirror_mode": "java",
   "file_extension": ".jshell",
   "mimetype": "text/x-java-source",
   "name": "Java",
   "pygments_lexer": "java",
   "version": "11.0.5+10"
  }
 },
 "nbformat": 4,
 "nbformat_minor": 2
}

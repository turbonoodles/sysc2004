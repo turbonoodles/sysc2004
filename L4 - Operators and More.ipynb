{
 "cells": [
  {
   "cell_type": "markdown",
   "metadata": {},
   "source": [
    "# Operators, Lifetime, Scope, and Simple Class"
   ]
  },
  {
   "cell_type": "markdown",
   "metadata": {},
   "source": [
    "## Important Operators\n",
    "\n",
    "### Boolean Operators\n",
    "\n",
    "* `A && B`: $A \\cdot B$; A and B\n",
    "\n",
    "* `A || B`: $A + B$; A or B\n",
    "\n",
    "* `!A`: $\\overline A$; not A\n",
    "\n",
    "* `A ^ B`: $A \\oplus B$; the **exclusive-or** operator.\n",
    "\n",
    "Note that the result of the all the Boolean operators will be either true or false."
   ]
  },
  {
   "cell_type": "code",
   "execution_count": 1,
   "metadata": {},
   "outputs": [
    {
     "name": "stdout",
     "output_type": "stream",
     "text": [
      "lol nope\n"
     ]
    }
   ],
   "source": [
    "// making a choice in Java\n",
    "\n",
    "int amount = 4;\n",
    "\n",
    "if ( amount > 5 )\n",
    "{\n",
    "    System.out.println(\"yup\");\n",
    "}\n",
    "else\n",
    "{\n",
    "    System.out.println(\"lol nope\");\n",
    "}"
   ]
  },
  {
   "cell_type": "markdown",
   "metadata": {},
   "source": [
    "### Comparison Operators\n",
    "\n",
    "* **`A > B`**: A strictly greater than B\n",
    "\n",
    "* **`A < B`**: A strictly less than B\n",
    "\n",
    "* **`A <= B`**: A less than or equal to B\n",
    "\n",
    "* **`A >= B`**: A greater than or equal to B\n",
    "\n",
    "* **`A == B`**: A is equal to B\n",
    "\n",
    "    * don't confuse this with assignment!\n",
    "    \n",
    "* **`A != B`**: A is not equal to B"
   ]
  },
  {
   "cell_type": "markdown",
   "metadata": {},
   "source": [
    "### Mathematical Operators\n",
    "\n",
    "* `A + B`: A plus B, duh\n",
    "\n",
    "* `A += B`: *compound assignment*: add A and B and assign the result into A.\n"
   ]
  },
  {
   "cell_type": "markdown",
   "metadata": {},
   "source": [
    "## Lifetime and Scope\n",
    "\n",
    "### Lifetime\n",
    "\n",
    "The *lifetime* of a variable describes how long ht evariable continues to exist before it is destroyed. \n",
    "\n",
    "The lifetime of a variable is *dynamic*; it is affected by the particular object that it is part of, which can be changed by the user's operation of the program.\n",
    "\n",
    "### Scope\n",
    "\n",
    "*Scope* of a variable defines the section of source code that can access that variable. Scopes can be nested; a statement within a block with in a class, for example. \n",
    "\n",
    "Scope is static - it is defined by the structure of the program.\n",
    "\n",
    "#### Local Scope\n",
    "\n",
    "A *local variable* can be defined in a *local scope*, which will be the block in which it is defined. Their values are defined within the method (maybe a constant for a calculation). These have short lifetimes and exist only as long as the method that uses them. They can only be accessed from within the method.\n",
    "\n",
    "Local variables do not need a visibility keyword. A useful example of a local value would be storing a return value before resetting it (which must be done before the return statement).\n"
   ]
  },
  {
   "cell_type": "code",
   "execution_count": null,
   "metadata": {},
   "outputs": [],
   "source": [
    "// from Better Ticket Machine\n",
    "\n",
    "public int refundBalance()\n",
    "    {\n",
    "        int amountToRefund;  // amountToRefund is a local variable\n",
    "        amountToRefund = balance;\n",
    "        balance = 0;\n",
    "        return amountToRefund;\n",
    "    }"
   ]
  },
  {
   "cell_type": "markdown",
   "metadata": {},
   "source": [
    "## LabClass Example"
   ]
  },
  {
   "cell_type": "code",
   "execution_count": 15,
   "metadata": {},
   "outputs": [],
   "source": [
    "// a student class\n",
    "public class Student\n",
    "{\n",
    "    private String name;    // student's name\n",
    "    private String id;      // student ID\n",
    "    private int credits;    // credits taken so far\n",
    "    \n",
    "    /**\n",
    "    *  Create a new student - a constructor method with two arguments.\n",
    "    */\n",
    "    \n",
    "    public Student( String fullName, String studentID )\n",
    "    {\n",
    "        name = fullName;\n",
    "        id = studentID;\n",
    "        credits = 0; // note we have no parameter for this!\n",
    "    }\n",
    "    \n",
    "    /**\n",
    "    *  Accessor and mutator methods\n",
    "    */\n",
    "    \n",
    "    public String getName()\n",
    "    {\n",
    "        return name;\n",
    "    }\n",
    "    \n",
    "    public void changeName( String newName )\n",
    "    {\n",
    "        name = newName;\n",
    "    }\n",
    "    \n",
    "    public String getStudentID()\n",
    "    {\n",
    "        return id;\n",
    "    }\n",
    "    \n",
    "    public void addCredits( int additionalPoints )\n",
    "    {\n",
    "        credits += additionalPoints;\n",
    "    }\n",
    "    \n",
    "    public int getCredits()\n",
    "    {\n",
    "        return credits;\n",
    "    }\n",
    "    \n",
    "    public String getLoginName()\n",
    "    {\n",
    "        return name.substring(0,4) + id.substring(0,3); // first 4 letters of name and first 3 digits of ID\n",
    "    }\n",
    "    \n",
    "    public void print()\n",
    "    {\n",
    "        System.out.println( name + \", student ID: \" + id + \", credits: \" + credits );\n",
    "    }\n",
    "}"
   ]
  },
  {
   "cell_type": "code",
   "execution_count": 16,
   "metadata": {},
   "outputs": [],
   "source": [
    "Student Alice = new Student(\"Alice in Wonderland\", \"12345\");"
   ]
  },
  {
   "cell_type": "code",
   "execution_count": 17,
   "metadata": {},
   "outputs": [
    {
     "data": {
      "text/plain": [
       "12345"
      ]
     },
     "execution_count": 17,
     "metadata": {},
     "output_type": "execute_result"
    }
   ],
   "source": [
    "Alice.getStudentID();"
   ]
  },
  {
   "cell_type": "code",
   "execution_count": 23,
   "metadata": {},
   "outputs": [],
   "source": [
    "Alice.changeName(\"Alice\");"
   ]
  },
  {
   "cell_type": "code",
   "execution_count": 24,
   "metadata": {},
   "outputs": [
    {
     "data": {
      "text/plain": [
       "Alice"
      ]
     },
     "execution_count": 24,
     "metadata": {},
     "output_type": "execute_result"
    }
   ],
   "source": [
    "Alice.getName()"
   ]
  },
  {
   "cell_type": "code",
   "execution_count": 25,
   "metadata": {},
   "outputs": [
    {
     "data": {
      "text/plain": [
       "Alic123"
      ]
     },
     "execution_count": 25,
     "metadata": {},
     "output_type": "execute_result"
    }
   ],
   "source": [
    "Alice.getLoginName();"
   ]
  }
 ],
 "metadata": {
  "kernelspec": {
   "display_name": "Java",
   "language": "java",
   "name": "java"
  },
  "language_info": {
   "codemirror_mode": "java",
   "file_extension": ".jshell",
   "mimetype": "text/x-java-source",
   "name": "Java",
   "pygments_lexer": "java",
   "version": "11.0.5+10"
  }
 },
 "nbformat": 4,
 "nbformat_minor": 2
}

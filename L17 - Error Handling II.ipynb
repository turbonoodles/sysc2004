{
 "cells": [
  {
   "cell_type": "markdown",
   "metadata": {},
   "source": [
    "# Handling Errors II"
   ]
  },
  {
   "cell_type": "markdown",
   "metadata": {},
   "source": [
    "## Assertions\n",
    "\n",
    "* used for internal consistency checks, such as the effect of a mutator method\n",
    "\n",
    "* normally removed before code goes into production\n",
    "\n",
    "    * some sort of compiler option\n",
    "\n",
    "### The `assert` statement\n",
    "\n",
    "* two forms\n",
    "\n",
    "    * `assert <BooleanExpression>`\n",
    "    \n",
    "    * `assert <BooleanExpression> : <message>` \n",
    "    \n",
    "* the `<BooleanExpression>` should be true at this point\n",
    "\n",
    "* `<message>` will be passed to the constructor of `AssertionError` to make a diagnostic message\n",
    "\n",
    "    * An `AssertionError` is thrown if `<BooleanExpression>` is false"
   ]
  },
  {
   "cell_type": "code",
   "execution_count": null,
   "metadata": {},
   "outputs": [],
   "source": [
    "    /**\n",
    "     * Remove an entry with the given key from the address book.\n",
    "     * @param key One of the keys of the entry to be removed.\n",
    "     * @throws AssertionError \n",
    "     */\n",
    "    public void removeDetails(String key)\n",
    "    {\n",
    "        if ( key == null )\n",
    "        {\n",
    "            throw new IllegalArgumentException(\"USEFUL MESSAGE\");\n",
    "        }\n",
    "        \n",
    "        if (keyInUse(key))\n",
    "        {\n",
    "            ContactDetails details = book.get(key);\n",
    "            book.remove(details.getName());\n",
    "            book.remove(details.getPhone());\n",
    "            numberOfEntries--;\n",
    "        }\n",
    "        // assertions\n",
    "        \n",
    "        assert !keyInUse(key); // better not be now\n",
    "        \n",
    "        // check that the book is a reasonable size\n",
    "        // consistentSize is some helper function\n",
    "        assert consistentSize(); : \"Inconsistent book size\"\n",
    "    }"
   ]
  },
  {
   "cell_type": "markdown",
   "metadata": {},
   "source": [
    "### Assertion guidelines\n",
    "\n",
    "* *not* an alternative to exceptions\n",
    "\n",
    "* Use for internal checks. Remove from production code.\n",
    "\n",
    "* Don't implement actual functionality in assertions."
   ]
  },
  {
   "cell_type": "markdown",
   "metadata": {},
   "source": [
    "## Error Recovery\n",
    "\n",
    "Client objects and programs should take note of the error notifications they receive, by checking return values. It is not generally good practice to ignore exceptions. You can include some code to attempt a recovery from the exception (probably some loop)."
   ]
  },
  {
   "cell_type": "code",
   "execution_count": null,
   "metadata": {},
   "outputs": [],
   "source": [
    "// try to save the addressbook\n",
    "\n",
    "boolean success = false;\n",
    "int attempts = 0;\n",
    "\n",
    "do \n",
    "{\n",
    "    try\n",
    "    {\n",
    "        contacts.saveToFile(filename);\n",
    "        successful = true;\n",
    "    }\n",
    "    catch( IOException e )\n",
    "    {\n",
    "        // a recovery routine\n",
    "        System.out.println(\"Unable to save to \" + filename);\n",
    "        attempts++;\n",
    "        if (attempts < MAX_ATTEMPTS)\n",
    "        {\n",
    "            filename = getNewFilenameSomehow();\n",
    "        }\n",
    "    } while (!successful && attempts < MAX_ATTEMPTS);\n",
    "    \n",
    "    if (!successful)\n",
    "    {\n",
    "        reportLackOfSuccessWompWomp();\n",
    "        giveUp();\n",
    "    }\n",
    "}"
   ]
  },
  {
   "cell_type": "markdown",
   "metadata": {},
   "source": [
    "## Error Avoidance\n",
    "\n",
    "Clients mught be able to use queries on the server to check data.\n",
    "\n",
    "* a more robust client is more trustworthy from the server\n",
    "\n",
    "* unchecked exceptions can be used in the client\n",
    "\n",
    "* simpler client logic\n",
    "\n",
    "Note that this might mean there is a higher degree of coupling between the client and server, and more methods that could have bugs."
   ]
  },
  {
   "cell_type": "markdown",
   "metadata": {},
   "source": [
    "## File IO\n",
    "\n",
    "Reading and writing to and from files breaks all the time because you're depending on the file existing, file permissions, not already open, etc.\n",
    "\n",
    "The `Java.io` package supports IO and has the checked exception `java.io.IOException`:\n",
    "\n",
    "* `java.io.File` provides information about files, folder, and directories\n",
    "\n",
    "    * alternative: `java.nio.file.Path`\n",
    "    \n",
    "* `File` is a class, `Path` is an interface"
   ]
  },
  {
   "cell_type": "markdown",
   "metadata": {},
   "source": [
    "## Readers, writers and streams\n",
    "\n",
    "* *readers* and *writers* are classes dealing with IO from text files, based around a file full of `char` type things.\n",
    "\n",
    "* *streams* deal with binary data, based around the `byte`\n",
    "\n"
   ]
  },
  {
   "cell_type": "markdown",
   "metadata": {},
   "source": [
    "## Writing to files\n",
    "\n",
    "The `FileWriter` object deals with There are three stages to writing to a file:\n",
    "\n",
    "* open the file (`new FileWriter(some_filename)`)\n",
    "\n",
    "* write to the file (`FileWriter.write(\"Something to write\")` for a text file)\n",
    "\n",
    "* close the file (`FileWriter.close()`)"
   ]
  },
  {
   "cell_type": "markdown",
   "metadata": {},
   "source": [
    "### Text output to file - try-with"
   ]
  },
  {
   "cell_type": "code",
   "execution_count": 3,
   "metadata": {},
   "outputs": [],
   "source": [
    "Boolean write_the_thing = true;\n",
    "\n",
    "try (FileWriter writer = new FileWriter(\"file.txt\"))\n",
    "{\n",
    "    while(write_the_thing)\n",
    "    {\n",
    "        writer.write(\"m\");\n",
    "        write_the_thing = false;\n",
    "    }\n",
    "}"
   ]
  },
  {
   "cell_type": "markdown",
   "metadata": {},
   "source": [
    "## Text inputs\n",
    "\n",
    "Use `BufferedReader` objects for line-based inputs. Again: open, read, close. Failure throws an `IOException`.\n",
    "\n",
    "You will need to pick a `charset` to read. This establishes how text is encoded with binary. "
   ]
  },
  {
   "cell_type": "code",
   "execution_count": null,
   "metadata": {},
   "outputs": [],
   "source": [
    "// basic file reading pattern\n",
    "\n",
    "Charset charset = Charset.forName(\"US-ASCII\");\n",
    "Path path = Paths.get(filename);\n",
    "\n",
    "BufferedReader reader = Files.newBufferedReader(path,charset);\n",
    "String line = reader.readLine();\n",
    "\n",
    "while( line != null )\n",
    "{\n",
    "    do_something(line);\n",
    "    line = reader.readLine();\n",
    "}\n",
    "\n",
    "reader.close();"
   ]
  },
  {
   "cell_type": "markdown",
   "metadata": {},
   "source": [
    "## Text input from the terminal\n",
    "\n",
    "`System.in` maps to the terminal (similar to `System.out` for writing stuff) - it has the type `java.io.InputStream`.\n",
    "\n",
    "We can use `Scanner` to parse text input - it has methods like `nextInt()` and `nextLine()` that hopefully do the obvious thing. "
   ]
  },
  {
   "cell_type": "code",
   "execution_count": 4,
   "metadata": {},
   "outputs": [],
   "source": [
    "Scanner reader = new Scanner(System.in);"
   ]
  },
  {
   "cell_type": "code",
   "execution_count": 9,
   "metadata": {},
   "outputs": [
    {
     "name": "stdout",
     "output_type": "stream",
     "text": [
      "What's up, doc?\n"
     ]
    }
   ],
   "source": [
    "String words = reader.nextLine(); the next complete line, not including a newline"
   ]
  },
  {
   "cell_type": "code",
   "execution_count": 10,
   "metadata": {},
   "outputs": [
    {
     "name": "stdout",
     "output_type": "stream",
     "text": [
      "What's up, doc?\n"
     ]
    }
   ],
   "source": [
    "System.out.println(words);"
   ]
  },
  {
   "cell_type": "code",
   "execution_count": null,
   "metadata": {},
   "outputs": [],
   "source": []
  }
 ],
 "metadata": {
  "kernelspec": {
   "display_name": "Java",
   "language": "java",
   "name": "java"
  },
  "language_info": {
   "codemirror_mode": "java",
   "file_extension": ".jshell",
   "mimetype": "text/x-java-source",
   "name": "Java",
   "pygments_lexer": "java",
   "version": "11.0.5+10"
  }
 },
 "nbformat": 4,
 "nbformat_minor": 2
}

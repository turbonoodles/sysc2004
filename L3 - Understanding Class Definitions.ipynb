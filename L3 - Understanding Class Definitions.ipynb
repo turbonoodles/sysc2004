{
 "cells": [
  {
   "cell_type": "markdown",
   "metadata": {},
   "source": [
    "# Understanding Class Definitions - Exploring Source Code\n",
    "\n",
    "The code below explores the behaviour of a simple ticket machine. \n",
    "\n",
    "Interacting with the `TicketMachine()` object gives us information about its internal functionality.\n",
    "\n",
    "## Keywords\n",
    "\n",
    "The keywords are also known as *reserved words* and cannot be used as names. They are always entirely lowercase.\n",
    "\n",
    "### `public` and `private`\n",
    "\n",
    "The visibility modififers. If set to `private`, only methods within the object can use this state variable. Conversely, if `public`, method calls from outside the object can access this variable.\n",
    "\n",
    "### `class`\n",
    "\n",
    "Provides for a class declaration. \n",
    "\n",
    "## Fields\n",
    "\n",
    "Also *instance variables*. These define the state of an object. In BlueJ, use *Inspect* to view all object state."
   ]
  },
  {
   "cell_type": "markdown",
   "metadata": {},
   "source": [
    "## Constructors\n",
    "\n",
    "Constuctors set up an object upon initialization. They always have the same name as the class. Usually stores initial values into the state variables; often from paramaters passed to the constructor.\n",
    "\n",
    "In Java, arguments are always passed by *value*."
   ]
  },
  {
   "cell_type": "markdown",
   "metadata": {},
   "source": [
    "## Assignment \n",
    "\n",
    "Stores the value on the RHS inot the variable on the LHS. Don't confuse with the equality test. Upon assinment, previous values of the variable are lost."
   ]
  },
  {
   "cell_type": "markdown",
   "metadata": {},
   "source": [
    "## Methods\n",
    "\n",
    "*Methods* impement the behaviour (rather than the state) of objects. Methods have *headers* and *bodies*: the header, eg. `public int getPrice();`, tells us **visibility**, what (if anything) the method **returns**, the **name** of the method, and what (if any) **parameters** the method takes.\n",
    "\n",
    "### Accessors\n",
    "\n",
    "AKA *getter methods*. Return the current state (or some detail thereof) to a calling procedure. For example:\n",
    "\n",
    "```\n",
    "public int getPrice();\n",
    "{\n",
    "    return price;\n",
    "}\n",
    "```\n",
    "\n",
    "In this example, the return type is `int`, the visiblilty is `public`, and the parameter list is empty. For the accessor to be of use, it must have a non-`void` return type.\n",
    "\n",
    "Accesing a parameter is *not* the same as printing a parameter.\n",
    "\n",
    "### Mutators\n",
    "\n",
    "AKA *setter methods*. *Modify* the current state of the object.\n",
    "\n",
    "```\n",
    "public void insertMoney(int amount)\n",
    "{\n",
    "    balance = balance + amount;\n",
    "}\n",
    "```\n",
    "\n",
    "Generally, we will want to pass parameters to mutator methods. It will generally also have at least one assignment statement in its body.\n",
    "\n",
    "#### `set` methods\n",
    "\n",
    "We will often want to have dedicated `set` mutator methods. These have a simple form:\n",
    "\n",
    "* `void` return type\n",
    "\n",
    "* a single parameter\n",
    "\n",
    "* a name including a field name\n",
    "\n",
    "#### Protective Mutators\n",
    "\n",
    "A method does not need to unquestioningly assign a value - we could use `if` or `else` to reject invalid values. We can thereby protect fields from nonsense: this is an example of *encapsulation* in OOP.\n"
   ]
  },
  {
   "cell_type": "markdown",
   "metadata": {},
   "source": [
    "## Broken Code"
   ]
  },
  {
   "cell_type": "code",
   "execution_count": null,
   "metadata": {},
   "outputs": [],
   "source": [
    "// find 5 errors in this code\n",
    "\n",
    "public class CokeMachine\n",
    "{\n",
    "    private price; // no type\n",
    "    \n",
    "    public CokeMachine() // no return type\n",
    "    {\n",
    "        price = 300 // no semicolon\n",
    "    }\n",
    "    \n",
    "    public int getPrice // no brackets\n",
    "    {\n",
    "        return Price; // wrong case\n",
    "    }\n",
    "}"
   ]
  },
  {
   "cell_type": "markdown",
   "metadata": {},
   "source": [
    "## Fixed Code"
   ]
  },
  {
   "cell_type": "code",
   "execution_count": 16,
   "metadata": {},
   "outputs": [],
   "source": [
    "// fixed!\n",
    "\n",
    "public class CokeMachine\n",
    "{\n",
    "    private int price;\n",
    "    \n",
    "    public void CokeMachine()\n",
    "    {\n",
    "        price = 300;\n",
    "    }\n",
    "    \n",
    "    public int getPrice()\n",
    "    {\n",
    "        return price;\n",
    "    }\n",
    "}"
   ]
  },
  {
   "cell_type": "markdown",
   "metadata": {},
   "source": [
    "## Naive Ticket Machine\n",
    "\n",
    "Note that in the `printTicket()` method we show that the `+` operator is *overloaded*: it will do different things depending on what data we ask it to operate on:\n",
    "\n",
    "* `String` + `String`: string concatenation\n",
    "\n",
    "* `int` + `int`: addition\n",
    "\n",
    "* `String` + `int` + `String`: concatenation again\n",
    "\n",
    "* `int` + `int` + `String`: arithmetic addition, *then* string concatenation\n",
    "\n",
    "    * fml\n",
    "\n",
    "Operator precedence therefore goes from left to right:\n",
    "\n",
    "* `int` + `int` = integer sum, a new `int`\n",
    "\n",
    "* then it's `int` + `string`, which is a concatenation"
   ]
  },
  {
   "cell_type": "code",
   "execution_count": 1,
   "metadata": {},
   "outputs": [],
   "source": [
    "// ctrl-v ctrl-c from the naive-ticket-machine example\n",
    "\n",
    "/**\n",
    " * TicketMachine models a naive ticket machine that issues\n",
    " * flat-fare tickets.\n",
    " * The price of a ticket is specified via the constructor.\n",
    " * It is a naive machine in the sense that it trusts its users\n",
    " * to insert enough money before trying to print a ticket.\n",
    " * It also assumes that users enter sensible amounts.\n",
    " *\n",
    " * @author David J. Barnes and Michael Kölling\n",
    " * @version 2016.02.29\n",
    " */\n",
    "public class TicketMachine // the outer wrapper of TicketMachine\n",
    "{\n",
    "    // the constructor for TicketMachine\n",
    "    // The price of a ticket from this machine.\n",
    "    private int price;\n",
    "    // The amount of money entered by a customer so far.\n",
    "    private int balance;\n",
    "    // The total amount of money collected by this machine.\n",
    "    private int total;\n",
    "\n",
    "    /**\n",
    "     * Create a machine that issues tickets of the given price.\n",
    "     * Note that the price must be greater than zero, and there\n",
    "     * are no checks to ensure this.\n",
    "     */\n",
    "    public TicketMachine(int cost)\n",
    "    {\n",
    "        price = cost;\n",
    "        balance = 0;\n",
    "        total = 0;\n",
    "    }\n",
    "\n",
    "    /**\n",
    "     * Return the price of a ticket.\n",
    "     */\n",
    "    public int getPrice()\n",
    "    {\n",
    "        return price;\n",
    "    }\n",
    "\n",
    "    /**\n",
    "     * Return the amount of money already inserted for the\n",
    "     * next ticket.\n",
    "     */\n",
    "    public int getBalance()\n",
    "    {\n",
    "        return balance;\n",
    "    }\n",
    "\n",
    "    /**\n",
    "     * Receive an amount of money from a customer.\n",
    "     */\n",
    "    public void insertMoney(int amount)\n",
    "    {\n",
    "        balance = balance + amount;\n",
    "    }\n",
    "\n",
    "    /**\n",
    "     * Print a ticket.\n",
    "     * Update the total collected and\n",
    "     * reduce the balance to zero.\n",
    "     */\n",
    "    public void printTicket()\n",
    "    {\n",
    "        // Simulate the printing of a ticket.\n",
    "        System.out.println(\"##################\");\n",
    "        System.out.println(\"# The BlueJ Line\");\n",
    "        System.out.println(\"# Ticket\");\n",
    "        System.out.println(\"# \" + price + \" cents.\");\n",
    "        System.out.println(\"##################\");\n",
    "        System.out.println();\n",
    "\n",
    "        // Update the total collected with the balance.\n",
    "        total = total + balance;\n",
    "        // Clear the balance.\n",
    "        balance = 0;\n",
    "    }\n",
    "}"
   ]
  },
  {
   "cell_type": "code",
   "execution_count": 13,
   "metadata": {},
   "outputs": [],
   "source": [
    "// as if THIS is the syntax for a new object, smdh\n",
    "\n",
    "TicketMachine tm = new TicketMachine(1);"
   ]
  },
  {
   "cell_type": "code",
   "execution_count": 14,
   "metadata": {},
   "outputs": [
    {
     "data": {
      "text/plain": [
       "1"
      ]
     },
     "execution_count": 14,
     "metadata": {},
     "output_type": "execute_result"
    }
   ],
   "source": [
    "tm.getPrice();"
   ]
  },
  {
   "cell_type": "code",
   "execution_count": 17,
   "metadata": {},
   "outputs": [],
   "source": [
    "tm.insertMoney(2); // return type is void"
   ]
  },
  {
   "cell_type": "code",
   "execution_count": 18,
   "metadata": {},
   "outputs": [
    {
     "data": {
      "text/plain": [
       "2"
      ]
     },
     "execution_count": 18,
     "metadata": {},
     "output_type": "execute_result"
    }
   ],
   "source": [
    "tm.getBalance();"
   ]
  },
  {
   "cell_type": "code",
   "execution_count": 19,
   "metadata": {},
   "outputs": [
    {
     "name": "stdout",
     "output_type": "stream",
     "text": [
      "##################\n",
      "# The BlueJ Line\n",
      "# Ticket\n",
      "# 1 cents.\n",
      "##################\n",
      "\n"
     ]
    }
   ],
   "source": [
    "tm.printTicket();"
   ]
  },
  {
   "cell_type": "code",
   "execution_count": 20,
   "metadata": {},
   "outputs": [
    {
     "data": {
      "text/plain": [
       "0"
      ]
     },
     "execution_count": 20,
     "metadata": {},
     "output_type": "execute_result"
    }
   ],
   "source": [
    "tm.getBalance()"
   ]
  },
  {
   "cell_type": "markdown",
   "metadata": {},
   "source": [
    "Well this is obviously a terrible ticket machine given that it literally cannot *subtract two numbers correctly*."
   ]
  },
  {
   "cell_type": "markdown",
   "metadata": {},
   "source": [
    "## Summary\n",
    "\n",
    "* Methods implement all object behaviour.\n",
    "\n",
    "* A method has a name and a return type at minimum.\n",
    "\n",
    "    * The return type may be void\n"
   ]
  },
  {
   "cell_type": "markdown",
   "metadata": {},
   "source": [
    "## The Better Ticket Machine\n",
    "\n",
    "It would be neat if the ticket machine could do basic math:\n",
    "\n",
    "* check if the money amount is sensible\n",
    "\n",
    "* ensure enough money to pay for ticket before printing ticket\n",
    "\n",
    "* gives change if too much money put in the machine"
   ]
  },
  {
   "cell_type": "code",
   "execution_count": 21,
   "metadata": {},
   "outputs": [],
   "source": [
    "/**\n",
    " * TicketMachine models a ticket machine that issues\n",
    " * flat-fare tickets.\n",
    " * The price of a ticket is specified via the constructor.\n",
    " * Instances will check to ensure that a user only enters\n",
    " * sensible amounts of money, and will only print a ticket\n",
    " * if enough money has been input.\n",
    " * \n",
    " * @author David J. Barnes and Michael Kölling\n",
    " * @version 2016.02.29\n",
    " */\n",
    "public class BtrTicketMachine\n",
    "{\n",
    "    // The price of a ticket from this machine.\n",
    "    private int price;\n",
    "    // The amount of money entered by a customer so far.\n",
    "    private int balance;\n",
    "    // The total amount of money collected by this machine.\n",
    "    private int total;\n",
    "\n",
    "    /**\n",
    "     * Create a machine that issues tickets of the given price.\n",
    "     */\n",
    "    public BtrTicketMachine(int cost)\n",
    "    {\n",
    "        price = cost;\n",
    "        balance = 0;\n",
    "        total = 0;\n",
    "    }\n",
    "\n",
    "    /**\n",
    "     * @Return The price of a ticket.\n",
    "     */\n",
    "    public int getPrice()\n",
    "    {\n",
    "        return price;\n",
    "    }\n",
    "\n",
    "    /**\n",
    "     * Return The amount of money already inserted for the\n",
    "     * next ticket.\n",
    "     */\n",
    "    public int getBalance()\n",
    "    {\n",
    "        return balance;\n",
    "    }\n",
    "\n",
    "    /**\n",
    "     * Receive an amount of money from a customer.\n",
    "     * Check that the amount is sensible.\n",
    "     */\n",
    "    public void insertMoney(int amount)\n",
    "    {\n",
    "        if(amount > 0) {\n",
    "            balance = balance + amount;\n",
    "        }\n",
    "        else {\n",
    "            System.out.println(\"Use a positive amount rather than: \" +\n",
    "                               amount);\n",
    "        }\n",
    "    }\n",
    "\n",
    "    /**\n",
    "     * Print a ticket if enough money has been inserted, and\n",
    "     * reduce the current balance by the ticket price. Print\n",
    "     * an error message if more money is required.\n",
    "     */\n",
    "    public void printTicket()\n",
    "    {\n",
    "        if(balance >= price) {\n",
    "            // Simulate the printing of a ticket.\n",
    "            System.out.println(\"##################\");\n",
    "            System.out.println(\"# The BlueJ Line\");\n",
    "            System.out.println(\"# Ticket\");\n",
    "            System.out.println(\"# \" + price + \" cents.\");\n",
    "            System.out.println(\"##################\");\n",
    "            System.out.println();\n",
    "\n",
    "            // Update the total collected with the price.\n",
    "            total = total + price;\n",
    "            // Reduce the balance by the price.\n",
    "            balance = balance - price;\n",
    "        }\n",
    "        else {\n",
    "            System.out.println(\"You must insert at least: \" +\n",
    "                               (price - balance) + \" more cents.\");\n",
    "                    \n",
    "        }\n",
    "    }\n",
    "\n",
    "    /**\n",
    "     * Return the money in the balance.\n",
    "     * The balance is cleared.\n",
    "     */\n",
    "    public int refundBalance()\n",
    "    {\n",
    "        int amountToRefund;\n",
    "        amountToRefund = balance;\n",
    "        balance = 0;\n",
    "        return amountToRefund;\n",
    "    }\n",
    "}\n"
   ]
  },
  {
   "cell_type": "code",
   "execution_count": 22,
   "metadata": {},
   "outputs": [],
   "source": [
    "BtrTicketMachine btm = new BtrTicketMachine(55); // still a stupid syntax"
   ]
  },
  {
   "cell_type": "code",
   "execution_count": 23,
   "metadata": {},
   "outputs": [
    {
     "data": {
      "text/plain": [
       "55"
      ]
     },
     "execution_count": 23,
     "metadata": {},
     "output_type": "execute_result"
    }
   ],
   "source": [
    "btm.getPrice()"
   ]
  },
  {
   "cell_type": "code",
   "execution_count": 24,
   "metadata": {},
   "outputs": [],
   "source": [
    "btm.insertMoney(100)"
   ]
  },
  {
   "cell_type": "code",
   "execution_count": 25,
   "metadata": {},
   "outputs": [
    {
     "data": {
      "text/plain": [
       "100"
      ]
     },
     "execution_count": 25,
     "metadata": {},
     "output_type": "execute_result"
    }
   ],
   "source": [
    "btm.getBalance()"
   ]
  },
  {
   "cell_type": "code",
   "execution_count": 26,
   "metadata": {},
   "outputs": [
    {
     "name": "stdout",
     "output_type": "stream",
     "text": [
      "##################\n",
      "# The BlueJ Line\n",
      "# Ticket\n",
      "# 55 cents.\n",
      "##################\n",
      "\n"
     ]
    }
   ],
   "source": [
    "btm.printTicket()"
   ]
  },
  {
   "cell_type": "code",
   "execution_count": 28,
   "metadata": {},
   "outputs": [
    {
     "data": {
      "text/plain": [
       "45"
      ]
     },
     "execution_count": 28,
     "metadata": {},
     "output_type": "execute_result"
    }
   ],
   "source": [
    "btm.getBalance()"
   ]
  },
  {
   "cell_type": "code",
   "execution_count": 29,
   "metadata": {},
   "outputs": [
    {
     "data": {
      "text/plain": [
       "45"
      ]
     },
     "execution_count": 29,
     "metadata": {},
     "output_type": "execute_result"
    }
   ],
   "source": [
    "btm.refundBalance()"
   ]
  },
  {
   "cell_type": "code",
   "execution_count": 30,
   "metadata": {},
   "outputs": [
    {
     "data": {
      "text/plain": [
       "0"
      ]
     },
     "execution_count": 30,
     "metadata": {},
     "output_type": "execute_result"
    }
   ],
   "source": [
    "btm.getBalance()"
   ]
  },
  {
   "cell_type": "markdown",
   "metadata": {},
   "source": [
    "That seems like a more reasonable ticket machine tbh."
   ]
  },
  {
   "cell_type": "markdown",
   "metadata": {},
   "source": [
    "## Conditional Statements\n",
    "\n",
    "*If* I have enough money, I will get a pizza. *Else*, I will stay home and watch Netflix:\n",
    "\n",
    "```\n",
    "if ( me.haveMoney() )\n",
    "{\n",
    "    restaurant.getPizza();\n",
    "}\n",
    "else\n",
    "{\n",
    "    me.watchNeflixSadly();\n",
    "}\n",
    "```\n",
    "\n",
    "These conditional statements takes a value as a result of a test. **Boolean** expressions have two possible values: *true* and *false*. \n",
    "\n",
    "For example, in the `insertMoney` method in `BtrTicketMachine`, the `amount > 0` avoids a nonsense action for garbage input."
   ]
  },
  {
   "cell_type": "code",
   "execution_count": null,
   "metadata": {},
   "outputs": [],
   "source": []
  }
 ],
 "metadata": {
  "kernelspec": {
   "display_name": "Java",
   "language": "java",
   "name": "java"
  },
  "language_info": {
   "codemirror_mode": "java",
   "file_extension": ".jshell",
   "mimetype": "text/x-java-source",
   "name": "Java",
   "pygments_lexer": "java",
   "version": "11.0.5+10"
  }
 },
 "nbformat": 4,
 "nbformat_minor": 2
}

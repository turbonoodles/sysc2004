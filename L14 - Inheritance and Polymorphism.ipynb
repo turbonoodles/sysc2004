{
 "cells": [
  {
   "cell_type": "markdown",
   "metadata": {},
   "source": [
    "# Inheritance and Polymorphism"
   ]
  },
  {
   "cell_type": "markdown",
   "metadata": {},
   "source": [
    "We know we can inherit methods and fields from another class, and we can do that an arbitrary number of times."
   ]
  },
  {
   "cell_type": "code",
   "execution_count": 1,
   "metadata": {
    "jupyter": {
     "source_hidden": true
    },
    "tags": [
     "nbconvert-hide"
    ]
   },
   "outputs": [],
   "source": [
    "import java.util.ArrayList;\n",
    "\n",
    "/**\n",
    " * This class stores information about a news feed post in a \n",
    " * social network. Posts can be stored and displayed. This class\n",
    " * serves as a superclass for more specific post types.\n",
    " * \n",
    " * @author Michael Kölling and David J. Barnes\n",
    " * @version 0.2\n",
    " */\n",
    "public class Postv2\n",
    "{\n",
    "    private String username;  // username of the post's author\n",
    "    private long timestamp;\n",
    "    private int likes;\n",
    "    private ArrayList<String> comments;\n",
    "\n",
    "    /**\n",
    "     * Constructor for objects of class Post.\n",
    "     * \n",
    "     * @param author    The username of the author of this post.\n",
    "     */\n",
    "    public Postv2(String author)\n",
    "    {\n",
    "        username = author;\n",
    "        timestamp = System.currentTimeMillis();\n",
    "        likes = 0;\n",
    "        comments = new ArrayList<>();\n",
    "    }\n",
    "\n",
    "    /**\n",
    "     * Record one more 'Like' indication from a user.\n",
    "     */\n",
    "    public void like()\n",
    "    {\n",
    "        likes++;\n",
    "    }\n",
    "\n",
    "    /**\n",
    "     * Record that a user has withdrawn his/her 'Like' vote.\n",
    "     */\n",
    "    public void unlike()\n",
    "    {\n",
    "        if (likes > 0) {\n",
    "            likes--;\n",
    "        }\n",
    "    }\n",
    "\n",
    "    /**\n",
    "     * Add a comment to this post.\n",
    "     * \n",
    "     * @param text  The new comment to add.\n",
    "     */\n",
    "    public void addComment(String text)\n",
    "    {\n",
    "        comments.add(text);\n",
    "    }\n",
    "\n",
    "    /**\n",
    "     * Return the time of creation of this post.\n",
    "     * \n",
    "     * @return The post's creation time, as a system time value.\n",
    "     */\n",
    "    public long getTimeStamp()\n",
    "    {\n",
    "        return timestamp;\n",
    "    }\n",
    "\n",
    "    /**\n",
    "     * Display the details of this post.\n",
    "     * \n",
    "     * (Currently: Print to the text terminal. This is simulating display \n",
    "     * in a web browser for now.)\n",
    "     */\n",
    "    public void display()\n",
    "    {\n",
    "        System.out.println(username);\n",
    "        System.out.print(timeString(timestamp));\n",
    "        \n",
    "        if(likes > 0) {\n",
    "            System.out.println(\"  -  \" + likes + \" people like this.\");\n",
    "        }\n",
    "        else {\n",
    "            System.out.println();\n",
    "        }\n",
    "        \n",
    "        if(comments.isEmpty()) {\n",
    "            System.out.println(\"   No comments.\");\n",
    "        }\n",
    "        else {\n",
    "            System.out.println(\"   \" + comments.size() + \" comment(s). Click here to view.\");\n",
    "        }\n",
    "    }\n",
    "    \n",
    "    /**\n",
    "     * Create a string describing a time point in the past in terms \n",
    "     * relative to current time, such as \"30 seconds ago\" or \"7 minutes ago\".\n",
    "     * Currently, only seconds and minutes are used for the string.\n",
    "     * \n",
    "     * @param time  The time value to convert (in system milliseconds)\n",
    "     * @return      A relative time string for the given time\n",
    "     */\n",
    "    \n",
    "    private String timeString(long time)\n",
    "    {\n",
    "        long current = System.currentTimeMillis();\n",
    "        long pastMillis = current - time;      // time passed in milliseconds\n",
    "        long seconds = pastMillis/1000;\n",
    "        long minutes = seconds/60;\n",
    "        if(minutes > 0) {\n",
    "            return minutes + \" minutes ago\";\n",
    "        }\n",
    "        else {\n",
    "            return seconds + \" seconds ago\";\n",
    "        }\n",
    "    }\n",
    "}\n"
   ]
  },
  {
   "cell_type": "code",
   "execution_count": 2,
   "metadata": {
    "jupyter": {
     "source_hidden": true
    },
    "tags": [
     "nbconvert-hide"
    ]
   },
   "outputs": [],
   "source": [
    "import java.util.ArrayList;\n",
    "\n",
    "/**\n",
    " * This class stores information about a post in a social network news feed. \n",
    " * The main part of the post consists of a (possibly multi-line)\n",
    " * text message. Other data, such as author and time, are also stored.\n",
    " * \n",
    " * @author Michael Kölling and David J. Barnes\n",
    " * @version 0.2\n",
    " */\n",
    "public class MessagePostv2 extends Postv2\n",
    "{\n",
    "    private String message;  // an arbitrarily long, multi-line message\n",
    "\n",
    "    /**\n",
    "     * Constructor for objects of class MessagePost.\n",
    "     * \n",
    "     * @param author    The username of the author of this post.\n",
    "     * @param text      The text of this post.\n",
    "     */\n",
    "    public MessagePostv2(String author, String text)\n",
    "    {\n",
    "        super(author);\n",
    "        message = text;\n",
    "    }\n",
    "\n",
    "    /**\n",
    "     * Return the text of this post.\n",
    "     * \n",
    "     * @return The post's message text.\n",
    "     */\n",
    "    public String getText()\n",
    "    {\n",
    "        return message;\n",
    "    }\n",
    "}\n"
   ]
  },
  {
   "cell_type": "code",
   "execution_count": 3,
   "metadata": {
    "jupyter": {
     "source_hidden": true
    },
    "tags": [
     "nbconvert-hide"
    ]
   },
   "outputs": [],
   "source": [
    "import java.util.ArrayList;\n",
    "\n",
    "/**\n",
    " * This class stores information about a post in a social network news feed.\n",
    " * The main part of the post consists of a photo and a caption.\n",
    " * Other data, such as author and time, are also stored.\n",
    " * \n",
    " * @author Michael Kölling and David J. Barnes\n",
    " * @version 0.2\n",
    " */\n",
    "public class PhotoPostv2 extends Postv2\n",
    "{\n",
    "    private String filename;  // the name of the image file\n",
    "    private String caption;   // a one line image caption\n",
    "\n",
    "    /**\n",
    "     * Constructor for objects of class PhotoPost.\n",
    "     * \n",
    "     * @param author    The username of the author of this post.\n",
    "     * @param filename  The filename of the image in this post.\n",
    "     * @param caption   A caption for the image.\n",
    "     */\n",
    "    public PhotoPostv2(String author, String filename, String caption)\n",
    "    {\n",
    "        super(author);\n",
    "        this.filename = filename;\n",
    "        this.caption = caption;\n",
    "    }\n",
    "\n",
    "    /**\n",
    "     * Return the file name of the image in this post.\n",
    "     * \n",
    "     * @return The post's image file name.\n",
    "     */\n",
    "    public String getImageFile()\n",
    "    {\n",
    "        return filename;\n",
    "    }\n",
    "\n",
    "    /**\n",
    "     * Return the caption of the image of this post.\n",
    "     * \n",
    "     * @return The image's caption.\n",
    "     */\n",
    "    public String getCaption()\n",
    "    {\n",
    "        return caption;\n",
    "    }\n",
    "}\n"
   ]
  },
  {
   "cell_type": "code",
   "execution_count": 4,
   "metadata": {
    "jupyter": {
     "source_hidden": true
    },
    "tags": [
     "nbconvert-hide"
    ]
   },
   "outputs": [],
   "source": [
    "import java.util.ArrayList;\n",
    "\n",
    "/**\n",
    " * The NewsFeed class stores news posts for the news feed in a\n",
    " * social network application.\n",
    " * \n",
    " * Display of the posts is currently simulated by printing the\n",
    " * details to the terminal. (Later, this should display in a browser.)\n",
    " * \n",
    " * This version does not save the data to disk, and it does not\n",
    " * provide any search or ordering functions.\n",
    " * \n",
    " * @author Michael Kölling and David J. Barnes\n",
    " * @version 0.2\n",
    " */\n",
    "public class NewsFeedv2\n",
    "{\n",
    "    private ArrayList<Postv2> posts;\n",
    "\n",
    "    /**\n",
    "     * Construct an empty news feed.\n",
    "     */\n",
    "    public NewsFeedv2()\n",
    "    {\n",
    "        posts = new ArrayList<>();\n",
    "    }\n",
    "\n",
    "    /**\n",
    "     * Add a post to the news feed.\n",
    "     * \n",
    "     * @param post  The post to be added.\n",
    "     */\n",
    "    public void addPost(Postv2 post)\n",
    "    {\n",
    "        posts.add(post);\n",
    "    }\n",
    "\n",
    "    /**\n",
    "     * Show the news feed. Currently: print the news feed details\n",
    "     * to the terminal. (To do: replace this later with display\n",
    "     * in web browser.)\n",
    "     */\n",
    "    public void show()\n",
    "    {\n",
    "        // display all posts\n",
    "        for(Postv2 post : posts) {\n",
    "            post.display();\n",
    "            System.out.println();   // empty line between posts\n",
    "        }\n",
    "    }\n",
    "}\n"
   ]
  },
  {
   "cell_type": "markdown",
   "metadata": {},
   "source": [
    "### Same demo as last time"
   ]
  },
  {
   "cell_type": "code",
   "execution_count": 5,
   "metadata": {},
   "outputs": [
    {
     "name": "stdout",
     "output_type": "stream",
     "text": [
      "Dave\n",
      "0 seconds ago  -  3 people like this.\n",
      "   1 comment(s). Click here to view.\n",
      "\n",
      "Bill\n",
      "0 seconds ago  -  2 people like this.\n",
      "   No comments.\n",
      "\n"
     ]
    }
   ],
   "source": [
    "// create a new news feed\n",
    "NewsFeedv2 nf2 = new NewsFeedv2();\n",
    "\n",
    "PhotoPostv2 pp2 = new PhotoPostv2(\"Dave\", \"birb.jpg\", \"A birb\");\n",
    "\n",
    "nf2.addPost(pp2);\n",
    "pp2.addComment(\"birb\");\n",
    "pp2.like();\n",
    "pp2.like();\n",
    "pp2.like(); // everyone loves birbs\n",
    "\n",
    "MessagePostv2 mp2 = new MessagePostv2(\"Bill\", \"Nice birb\");\n",
    "\n",
    "nf2.addPost(mp2);\n",
    "mp2.like();\n",
    "mp2.like(); // nice wholesome post\n",
    "\n",
    "nf2.show();"
   ]
  },
  {
   "cell_type": "markdown",
   "metadata": {},
   "source": [
    "This demo doesn't have a super helpful newsfeed - the `display()` method is from the `Post` superclass, not `MessagePost` or `PhotoPost`. This means that `display()` *has no idea about the unique fields and methods in the `MessagePost` and `PhotoPost` subclasses* - inheritance only works one way. That means that the superclass method can *only* work on the common fields in the superclass (likes, comments)."
   ]
  },
  {
   "cell_type": "markdown",
   "metadata": {},
   "source": [
    "## Static and Dynamic Type\n",
    "\n",
    "The declared type of a variable is its *static type*. The type of the object a variable refers to is its *dynamic type*.\n",
    "\n",
    "```\n",
    "Car c1 = new Car();\n",
    "```\n",
    "\n",
    "`c1` has `Car` as both its static and dynamic type.\n",
    "\n",
    "```\n",
    "Vehicle v1 = new Car();\n",
    "```\n",
    "\n",
    "`v1` has a static type of `Vehicle` and a dynamic type of `Car`.\n",
    "\n",
    "Note that the compiler will check for *static* type violations. Dynamic type violations are a *runtime* error."
   ]
  },
  {
   "cell_type": "markdown",
   "metadata": {},
   "source": [
    "## Overriding\n",
    "\n",
    "We can override a *superclass's* function definition by declaring a method *with the same signature* in the subclass. \n",
    "\n",
    "Java will search for method names starting at the bottom of the inheritance hierarchy and then work its way up - and therefore find (and execute) the one in the lowest subclass first. This is called *overriding* - the subclass method is the *overriding* method and the superclass method is said to be *overridden*. The overridden method is not executed.\n",
    "\n",
    "The overriding method has access to all the fields in whichever subclass it is in."
   ]
  },
  {
   "cell_type": "code",
   "execution_count": 23,
   "metadata": {},
   "outputs": [],
   "source": [
    "public class Animal\n",
    "{\n",
    "    \n",
    "    public Integer number_of_feet;\n",
    "    \n",
    "    public Animal()\n",
    "    {\n",
    "        number_of_feet = 0;\n",
    "    }\n",
    "    \n",
    "    public Integer getFeet()\n",
    "    {\n",
    "        return number_of_feet;\n",
    "    }\n",
    "    \n",
    "    public String speak()\n",
    "    {\n",
    "        return \"Animals can't talk, silly :)\";\n",
    "    }\n",
    "}\n",
    "\n",
    "public class Cat extends Animal\n",
    "{\n",
    "    public Cat()\n",
    "    {\n",
    "        super();\n",
    "        this.number_of_feet = 4;\n",
    "    }\n",
    "}\n",
    "\n",
    "public class Bird extends Animal\n",
    "{\n",
    "    public Bird()\n",
    "    {\n",
    "        super();\n",
    "        this.number_of_feet = 2;\n",
    "    }\n",
    "    \n",
    "    public String speak()\n",
    "    {\n",
    "        return \"I tawt I taw a puddy tat\";\n",
    "    }\n",
    "    \n",
    "    public String mute()\n",
    "    {\n",
    "        return super.speak();\n",
    "    }\n",
    "}"
   ]
  },
  {
   "cell_type": "code",
   "execution_count": 37,
   "metadata": {},
   "outputs": [],
   "source": [
    "Bird tweety = new Bird();\n",
    "\n",
    "Cat sylvester = new Cat();\n",
    "\n",
    "Animal roadrunner = new Bird();"
   ]
  },
  {
   "cell_type": "code",
   "execution_count": 25,
   "metadata": {},
   "outputs": [
    {
     "data": {
      "text/plain": [
       "Animals can't talk, silly :)"
      ]
     },
     "execution_count": 25,
     "metadata": {},
     "output_type": "execute_result"
    }
   ],
   "source": [
    "sylvester.speak();"
   ]
  },
  {
   "cell_type": "code",
   "execution_count": 26,
   "metadata": {},
   "outputs": [
    {
     "data": {
      "text/plain": [
       "I tawt I taw a puddy tat"
      ]
     },
     "execution_count": 26,
     "metadata": {},
     "output_type": "execute_result"
    }
   ],
   "source": [
    "tweety.speak();"
   ]
  },
  {
   "cell_type": "code",
   "execution_count": 36,
   "metadata": {},
   "outputs": [
    {
     "data": {
      "text/plain": [
       "2"
      ]
     },
     "execution_count": 36,
     "metadata": {},
     "output_type": "execute_result"
    }
   ],
   "source": [
    "tweety.getFeet(); // this one comes from the superclass"
   ]
  },
  {
   "cell_type": "markdown",
   "metadata": {},
   "source": [
    "We can clearly see that the subclass version of `speak()` in `Bird` overrides the one in `Animal`. Since `Cat` doesn't have a `speak()` method, the one in `Animal` is executed. However, we can use `super.` to call the method from the superclass - like if you want a subclass to *extend* a method from the superclass.\n",
    "\n",
    "This is known as **polymorphic method dispatch**. The variable can store objects of multiple types; but the actual method called depends on the object upon whom the method is called."
   ]
  },
  {
   "cell_type": "markdown",
   "metadata": {},
   "source": [
    "### The `instanceof` operator"
   ]
  },
  {
   "cell_type": "code",
   "execution_count": 49,
   "metadata": {},
   "outputs": [
    {
     "data": {
      "text/plain": [
       "true"
      ]
     },
     "execution_count": 49,
     "metadata": {},
     "output_type": "execute_result"
    }
   ],
   "source": [
    "roadrunner instanceof Animal"
   ]
  },
  {
   "cell_type": "code",
   "execution_count": 50,
   "metadata": {},
   "outputs": [
    {
     "data": {
      "text/plain": [
       "true"
      ]
     },
     "execution_count": 50,
     "metadata": {},
     "output_type": "execute_result"
    }
   ],
   "source": [
    "roadrunner instanceof Bird"
   ]
  },
  {
   "cell_type": "markdown",
   "metadata": {},
   "source": [
    "Identifies whether an object is of a particular type or of any subtype of it. "
   ]
  },
  {
   "cell_type": "markdown",
   "metadata": {},
   "source": [
    "## `Object` Class Methods\n",
    "\n",
    "Methods in `Object` are inherited by all classes. Any of them may be overridden. For example we often override `Object.toString()` in order to give an object a useful string representation (for example, for debugging).\n",
    "\n",
    "Calling `System.out.println()` will automatically call `toString()` since you can only print strings."
   ]
  },
  {
   "cell_type": "markdown",
   "metadata": {},
   "source": [
    "### Overriding `equals()`\n",
    "\n",
    "What does it mean for two of your objects to be the same?\n",
    "\n",
    "* reference equality - literally the same object\n",
    "\n",
    "* content equality - some or all content in the object is the same\n",
    "\n",
    "Reference equality is dealt with by `==`. Content equality is dealt with by `equals()` methods - you can override `equals()` depending on what you want this to mean. "
   ]
  },
  {
   "cell_type": "code",
   "execution_count": null,
   "metadata": {},
   "outputs": [],
   "source": [
    "public boolean equals(Object obj)\n",
    "{\n",
    "    if ( this == obj ){\n",
    "        return true; // literally the same\n",
    "    }\n",
    "    \n",
    "    if (!(obj instanceof Animal))\n",
    "    {\n",
    "        return false; // not even the right type\n",
    "    }\n",
    "    \n",
    "    // other class-specific comparisons here\n",
    "}"
   ]
  },
  {
   "cell_type": "code",
   "execution_count": null,
   "metadata": {},
   "outputs": [],
   "source": [
    "public int hashCode()\n",
    "// this method determines how things are store in HashMaps and HashSets\n",
    "{\n",
    "    return int 42;\n",
    "}"
   ]
  },
  {
   "cell_type": "markdown",
   "metadata": {},
   "source": [
    "## `protected` access\n",
    "\n",
    "`private` access is very restrictive and doesn't allow access of field and methods from subclasses; but `public` is awfully public. IN between, we can use `protected` which is accessible from subclasses only - not from other methods and classes."
   ]
  },
  {
   "cell_type": "code",
   "execution_count": null,
   "metadata": {},
   "outputs": [],
   "source": []
  }
 ],
 "metadata": {
  "celltoolbar": "Tags",
  "kernelspec": {
   "display_name": "Java",
   "language": "java",
   "name": "java"
  },
  "language_info": {
   "codemirror_mode": "java",
   "file_extension": ".jshell",
   "mimetype": "text/x-java-source",
   "name": "Java",
   "pygments_lexer": "java",
   "version": "11.0.5+10"
  }
 },
 "nbformat": 4,
 "nbformat_minor": 4
}

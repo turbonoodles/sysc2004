{
 "cells": [
  {
   "cell_type": "markdown",
   "metadata": {},
   "source": [
    "# Introduction\n",
    "\n",
    "Dr Mokhtar Beldjehem - ME4239, Friday 13:05-15:05\n",
    "\n",
    "## Administrivia\n",
    "\n",
    "### PASS\n",
    "\n",
    "Martin Klamrowski - martinklamrowski@cmail.carleton.ca\n",
    "\n",
    "Monday, 6:30-7:00pm; Tuesday, 5:35-6:55 (TB219)\n",
    "\n",
    "### CULearn\n",
    "\n",
    "Lecture slides, exercises, announcements and assignments will be posted on CULearn only. Additional resources such as web links will also be posted there.\n",
    "\n",
    "### Midterm\n",
    "\n",
    "70 minutes. In class, on Thursday Feb 13. \n",
    "\n",
    "### Assumed Knowledge\n",
    "\n",
    "* understand imperative programming concepts and use this to learn new languages\n",
    "* understand memory management in an executing program, and show pictorially\n",
    "* undrestand different designs for simple abstract and linear collections such as lists, queues and stacks\n",
    "* construct simple recursive functions\n",
    "\n",
    "### Course Objectives \n",
    "\n",
    "Developing and implementing programs as sets of collaborating objects. \n",
    "\n",
    "### Major Concepts\n",
    "\n",
    "* classes\n",
    "* objects\n",
    "* encapsulation\n",
    "    * information hiding\n",
    "* inheritance\n",
    "    * polymorphism\n",
    "* class and object diagrams\n",
    "* application of OOP to simple graphic user interfaces\n",
    "\n",
    "This is an advanced programming course on object oriented programming.  Extra assignments may be given to practice advanced Java. "
   ]
  },
  {
   "cell_type": "code",
   "execution_count": null,
   "metadata": {},
   "outputs": [],
   "source": []
  }
 ],
 "metadata": {
  "kernelspec": {
   "display_name": "Java",
   "language": "java",
   "name": "java"
  },
  "language_info": {
   "codemirror_mode": "java",
   "file_extension": ".jshell",
   "mimetype": "text/x-java-source",
   "name": "Java",
   "pygments_lexer": "java",
   "version": "11.0.5+10"
  }
 },
 "nbformat": 4,
 "nbformat_minor": 2
}

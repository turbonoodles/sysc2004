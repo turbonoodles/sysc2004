{
 "cells": [
  {
   "cell_type": "markdown",
   "metadata": {},
   "source": [
    "# Collection Objects"
   ]
  },
  {
   "cell_type": "markdown",
   "metadata": {},
   "source": [
    "Java has two major types of collection objects:\n",
    "\n",
    "* **`ArrayList`**: size is variable\n",
    "\n",
    "* **`Array`**: size is fixed\n",
    "\n",
    "Many applications involve collections of objects, such as libary catalogs, student records. The number of items to be stored may vary.\n",
    "Both collection object build on the concept of **abstraction** from the last chapter. "
   ]
  },
  {
   "cell_type": "markdown",
   "metadata": {},
   "source": [
    "## Music Organizer Example"
   ]
  },
  {
   "cell_type": "code",
   "execution_count": 2,
   "metadata": {},
   "outputs": [],
   "source": [
    "import java.util.ArrayList;\n",
    "\n",
    "/**\n",
    " * A class to hold details of audio files.\n",
    " * \n",
    " * @author David J. Barnes and Michael Kölling\n",
    " * @version 2016.02.29\n",
    " */\n",
    "public class MusicOrganizer\n",
    "{\n",
    "    // An ArrayList for storing the file names of music files.\n",
    "    private ArrayList<String> files;\n",
    "        \n",
    "    /**\n",
    "     * Create a MusicOrganizer\n",
    "     */\n",
    "    public MusicOrganizer()\n",
    "    {\n",
    "        files = new ArrayList<>();\n",
    "    }\n",
    "    \n",
    "    /**\n",
    "     * Add a file to the collection.\n",
    "     * @param filename The file to be added.\n",
    "     */\n",
    "    public void addFile(String filename)\n",
    "    {\n",
    "        files.add(filename);\n",
    "    }\n",
    "    \n",
    "    /**\n",
    "     * Return the number of files in the collection.\n",
    "     * @return The number of files in the collection.\n",
    "     */\n",
    "    public int getNumberOfFiles()\n",
    "    {\n",
    "        return files.size();\n",
    "    }\n",
    "    \n",
    "    /**\n",
    "     * List a file from the collection.\n",
    "     * @param index The index of the file to be listed.\n",
    "     */\n",
    "    public void listFile(int index)\n",
    "    {\n",
    "        if(index >= 0 && index < files.size()) {\n",
    "            String filename = files.get(index);\n",
    "            System.out.println(filename);\n",
    "        }\n",
    "    }\n",
    "    \n",
    "    /**\n",
    "     * Remove a file from the collection.\n",
    "     * @param index The index of the file to be removed.\n",
    "     */\n",
    "    public void removeFile(int index)\n",
    "    {\n",
    "        if(index >= 0 && index < files.size()) {\n",
    "            files.remove(index);\n",
    "        }\n",
    "    }\n",
    "}\n"
   ]
  },
  {
   "cell_type": "markdown",
   "metadata": {},
   "source": [
    "* we have an `ArrayList` of `String`s to store the filenames. This is initialized to empty in the constructor.\n",
    "\n",
    "* the type in the `ArrayList` is *not* specified in the constructor. This is known as *type inference*.\n",
    "\n",
    "* `getNumberOfFiles()` just uses the `ArrayList.size()` method\n",
    "\n",
    "    * this is called *delegation*"
   ]
  },
  {
   "cell_type": "markdown",
   "metadata": {},
   "source": [
    "## Class Libraries\n",
    "\n",
    "Note that we need to import the arraylist type with `Java.util.ArrayList`.\n",
    "\n",
    "These libraries are collections of useful classes. These are called **packages**. Grouping objects happens a lot; loads of ways to do this in `Java.util`."
   ]
  },
  {
   "cell_type": "markdown",
   "metadata": {},
   "source": [
    "## Generic Classes\n",
    "\n",
    "Collections are generic or paramterized types:\n",
    "\n",
    "* `ArrayList` implements all list functionality\n",
    "\n",
    "* The parameter tells the collection what we are collecting in it: `<Cat>`s, `<Dogs>`s, `<TicketMachine>`, or whatever.\n",
    "\n",
    "    * Everything is an object; the contents of the array are already objects.\n",
    "\n",
    "* If no type is specified, it may be inferred from the type of the variable.\n",
    "\n",
    "### Features of the collection\n",
    "\n",
    "The `ArrayList`:\n",
    "\n",
    "* increases its size as necessary\n",
    "\n",
    "* keeps a count of items, accessed with `ArrayList.size()`\n",
    "\n",
    "* keeps objects in order\n",
    "\n",
    "    * removing items from the beginning of the list affects the numbering of items that come after \n",
    "    \n",
    "* doesn't force us to care about how it does any of this\n",
    "\n",
    "* numbers its indices\n",
    "\n",
    "    * index starts a 0, goes to n-1 for n items in the list\n",
    "    \n",
    "    * lets us do useful stuff:\n",
    "    \n",
    "        * get the first thing: `ArrayList.get(0)`\n",
    "        \n",
    "        * get the last thing: `ArrayList.get( ArrayList.size() - 1 )`\n",
    "        \n",
    "        * and others...\n",
    "    \n",
    "\n",
    "\n",
    "### Retrieving from the collection\n",
    "\n",
    "* `ArrayList.get(index)`: return the item in the `ArrayList` at `index`\n",
    "\n",
    "* should generally be wrapped in enough logic to ensure that the index is valid\n",
    "\n",
    "* see `MusicOrganizer.listFile()`"
   ]
  },
  {
   "cell_type": "markdown",
   "metadata": {},
   "source": [
    "## Iterating over collections\n",
    "\n",
    "Sometimes, with a collection, we would like to do stuff to them, so it would be neat if we could iterate over them.\n",
    "\n",
    "Java has several kinds of loop. We will start with the **for-each** loop.\n",
    "\n",
    "### For-each\n",
    "\n",
    "* do an action exactly once for each object in the collection\n",
    "\n",
    "* Using each *element* in *collection* in order, *do_something*"
   ]
  },
  {
   "cell_type": "code",
   "execution_count": null,
   "metadata": {},
   "outputs": [],
   "source": [
    "for (ElementType element: collection)\n",
    "{\n",
    "    do_something();\n",
    "}"
   ]
  },
  {
   "cell_type": "code",
   "execution_count": null,
   "metadata": {},
   "outputs": [],
   "source": [
    "public void listAllFiles()\n",
    "{\n",
    "    for ( String filename: files )\n",
    "    {\n",
    "        System.out.println( filename );\n",
    "    }\n",
    "}"
   ]
  },
  {
   "cell_type": "markdown",
   "metadata": {},
   "source": [
    "Statements can be nested; we could put an `if`/`else` inside the loop:"
   ]
  },
  {
   "cell_type": "code",
   "execution_count": null,
   "metadata": {},
   "outputs": [],
   "source": [
    "public void findFiles(String searchQuery)\n",
    "{\n",
    "    for ( String filename : files )\n",
    "    {\n",
    "        if ( filename.contains(searchQuery) )\n",
    "        {\n",
    "            System.out.println(filename);\n",
    "        }\n",
    "    }\n",
    "}"
   ]
  },
  {
   "cell_type": "markdown",
   "metadata": {},
   "source": [
    "These are:\n",
    "\n",
    "* easy\n",
    "\n",
    "* naturally terminating (a *definite* loop)\n",
    "\n",
    "* **cannot be stopped partway**\n",
    "\n",
    "* **cannot change the collection**"
   ]
  },
  {
   "cell_type": "markdown",
   "metadata": {},
   "source": [
    "### While loop\n",
    "\n",
    "* more flexible than the for loop\n",
    "\n",
    "* uses a Boolean condition to decide whether or not to continue iterating\n",
    "\n",
    "* an *indefinite loop*\n",
    "\n",
    "    * have no idea how many places to look for your keys\n",
    "    \n",
    "    * we will stop when some state is true\n",
    "    \n",
    "    * might get an *infinite loop* through errors or just the nature of the task"
   ]
  },
  {
   "cell_type": "code",
   "execution_count": null,
   "metadata": {},
   "outputs": [],
   "source": [
    "// while syntax\n",
    "\n",
    "while (condition)\n",
    "{\n",
    "    do_something()\n",
    "}"
   ]
  },
  {
   "cell_type": "code",
   "execution_count": null,
   "metadata": {},
   "outputs": [],
   "source": [
    "// a for loop as a while loop\n",
    "// can access the index\n",
    "\n",
    "public void noodles()\n",
    "{\n",
    "    int index = 0;\n",
    "    while (index < somelist.size()))\n",
    "    {\n",
    "        do_something();\n",
    "        index++;\n",
    "    }\n",
    "}"
   ]
  },
  {
   "cell_type": "markdown",
   "metadata": {},
   "source": [
    "Reasons not to do this:\n",
    "\n",
    "* have to come up with our own stopping conditions\n",
    "\n",
    "* need to specify an index\n",
    "\n",
    "* need to debug all that garbage\n",
    "\n",
    "But if you need the index, need to process part of a collection, it's the only game in town. It need not be used with a collection at all."
   ]
  }
 ],
 "metadata": {
  "kernelspec": {
   "display_name": "Java",
   "language": "java",
   "name": "java"
  },
  "language_info": {
   "codemirror_mode": "java",
   "file_extension": ".jshell",
   "mimetype": "text/x-java-source",
   "name": "Java",
   "pygments_lexer": "java",
   "version": "11.0.5+10"
  }
 },
 "nbformat": 4,
 "nbformat_minor": 2
}
